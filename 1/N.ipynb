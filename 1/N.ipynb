{
 "cells": [
  {
   "cell_type": "code",
   "execution_count": 41,
   "id": "4ee65fce",
   "metadata": {},
   "outputs": [],
   "source": [
    "import pandas as pd\n",
    "import matplotlib.pyplot as plt\n",
    "import numpy as np\n",
    "from scipy.stats import norm\n",
    "import dc_stat_think as dcst\n",
    "import seaborn as sns\n",
    "import statistics"
   ]
  },
  {
   "cell_type": "code",
   "execution_count": 2,
   "id": "f26415ef",
   "metadata": {},
   "outputs": [],
   "source": [
    "sns.set()"
   ]
  },
  {
   "cell_type": "code",
   "execution_count": 3,
   "id": "975df968",
   "metadata": {},
   "outputs": [
    {
     "name": "stdout",
     "output_type": "stream",
     "text": [
      "110.07\n",
      "nan\n",
      "110.221001\n",
      "110.07\n",
      "110.1455005\n",
      "110.221001\n"
     ]
    }
   ],
   "source": [
    "h = pd.read_csv(\"JPY.csv\").Close\n",
    "print(h.iloc[294])\n",
    "print(h.iloc[295])\n",
    "print(h.iloc[296])\n",
    "#print(h[h.isnull()])\n",
    "h.iloc[295] = np.mean([h.iloc[294],h.iloc[296]]) \n",
    "print(h.iloc[294])\n",
    "print(h.iloc[295])\n",
    "print(h.iloc[296])"
   ]
  },
  {
   "cell_type": "code",
   "execution_count": 5,
   "id": "3d326fcf",
   "metadata": {},
   "outputs": [],
   "source": [
    "hao = pd.read_csv(\"JPY.csv\").Close\n",
    "mate = pd.read_csv(\"AUD.csv\").Close"
   ]
  },
  {
   "cell_type": "code",
   "execution_count": 6,
   "id": "47ddacca",
   "metadata": {},
   "outputs": [
    {
     "data": {
      "text/plain": [
       "1305"
      ]
     },
     "execution_count": 6,
     "metadata": {},
     "output_type": "execute_result"
    }
   ],
   "source": [
    "len(hao)"
   ]
  },
  {
   "cell_type": "code",
   "execution_count": 7,
   "id": "11542b63",
   "metadata": {},
   "outputs": [],
   "source": [
    "daty = pd.read_csv(\"JPY.csv\").Date"
   ]
  },
  {
   "cell_type": "code",
   "execution_count": 8,
   "id": "103652d1",
   "metadata": {},
   "outputs": [],
   "source": [
    "hao.iloc[295] = np.mean([hao.iloc[294], hao.iloc[296]])\n",
    "mate.iloc[295] = np.mean([mate.iloc[294], mate.iloc[296]])"
   ]
  },
  {
   "cell_type": "code",
   "execution_count": 9,
   "id": "b21dfb58",
   "metadata": {},
   "outputs": [],
   "source": [
    "from datetime import datetime"
   ]
  },
  {
   "cell_type": "code",
   "execution_count": 10,
   "id": "3efd0c26",
   "metadata": {},
   "outputs": [
    {
     "data": {
      "text/plain": [
       "0       2018-04-04\n",
       "1       2018-04-05\n",
       "2       2018-04-06\n",
       "3       2018-04-09\n",
       "4       2018-04-10\n",
       "           ...    \n",
       "1300    2023-03-29\n",
       "1301    2023-03-30\n",
       "1302    2023-03-31\n",
       "1303    2023-04-03\n",
       "1304    2023-04-04\n",
       "Name: Date, Length: 1305, dtype: object"
      ]
     },
     "execution_count": 10,
     "metadata": {},
     "output_type": "execute_result"
    }
   ],
   "source": [
    "daty"
   ]
  },
  {
   "cell_type": "code",
   "execution_count": 11,
   "id": "e12ea3f9",
   "metadata": {},
   "outputs": [
    {
     "data": {
      "text/plain": [
       "[datetime.date(2018, 4, 4),\n",
       " datetime.date(2018, 4, 5),\n",
       " datetime.date(2018, 4, 6),\n",
       " datetime.date(2018, 4, 9),\n",
       " datetime.date(2018, 4, 10),\n",
       " datetime.date(2018, 4, 11),\n",
       " datetime.date(2018, 4, 12),\n",
       " datetime.date(2018, 4, 13),\n",
       " datetime.date(2018, 4, 16),\n",
       " datetime.date(2018, 4, 17),\n",
       " datetime.date(2018, 4, 18),\n",
       " datetime.date(2018, 4, 19),\n",
       " datetime.date(2018, 4, 20),\n",
       " datetime.date(2018, 4, 23),\n",
       " datetime.date(2018, 4, 24),\n",
       " datetime.date(2018, 4, 25),\n",
       " datetime.date(2018, 4, 26),\n",
       " datetime.date(2018, 4, 27),\n",
       " datetime.date(2018, 4, 30),\n",
       " datetime.date(2018, 5, 1),\n",
       " datetime.date(2018, 5, 2),\n",
       " datetime.date(2018, 5, 3),\n",
       " datetime.date(2018, 5, 4),\n",
       " datetime.date(2018, 5, 7),\n",
       " datetime.date(2018, 5, 8),\n",
       " datetime.date(2018, 5, 9),\n",
       " datetime.date(2018, 5, 10),\n",
       " datetime.date(2018, 5, 11),\n",
       " datetime.date(2018, 5, 14),\n",
       " datetime.date(2018, 5, 15),\n",
       " datetime.date(2018, 5, 16),\n",
       " datetime.date(2018, 5, 17),\n",
       " datetime.date(2018, 5, 18),\n",
       " datetime.date(2018, 5, 21),\n",
       " datetime.date(2018, 5, 22),\n",
       " datetime.date(2018, 5, 23),\n",
       " datetime.date(2018, 5, 24),\n",
       " datetime.date(2018, 5, 25),\n",
       " datetime.date(2018, 5, 28),\n",
       " datetime.date(2018, 5, 29),\n",
       " datetime.date(2018, 5, 30),\n",
       " datetime.date(2018, 5, 31),\n",
       " datetime.date(2018, 6, 1),\n",
       " datetime.date(2018, 6, 4),\n",
       " datetime.date(2018, 6, 5),\n",
       " datetime.date(2018, 6, 6),\n",
       " datetime.date(2018, 6, 7),\n",
       " datetime.date(2018, 6, 8),\n",
       " datetime.date(2018, 6, 11),\n",
       " datetime.date(2018, 6, 12),\n",
       " datetime.date(2018, 6, 13),\n",
       " datetime.date(2018, 6, 14),\n",
       " datetime.date(2018, 6, 15),\n",
       " datetime.date(2018, 6, 18),\n",
       " datetime.date(2018, 6, 19),\n",
       " datetime.date(2018, 6, 20),\n",
       " datetime.date(2018, 6, 21),\n",
       " datetime.date(2018, 6, 22),\n",
       " datetime.date(2018, 6, 25),\n",
       " datetime.date(2018, 6, 26),\n",
       " datetime.date(2018, 6, 27),\n",
       " datetime.date(2018, 6, 28),\n",
       " datetime.date(2018, 6, 29),\n",
       " datetime.date(2018, 7, 2),\n",
       " datetime.date(2018, 7, 3),\n",
       " datetime.date(2018, 7, 4),\n",
       " datetime.date(2018, 7, 5),\n",
       " datetime.date(2018, 7, 6),\n",
       " datetime.date(2018, 7, 9),\n",
       " datetime.date(2018, 7, 10),\n",
       " datetime.date(2018, 7, 11),\n",
       " datetime.date(2018, 7, 12),\n",
       " datetime.date(2018, 7, 13),\n",
       " datetime.date(2018, 7, 16),\n",
       " datetime.date(2018, 7, 17),\n",
       " datetime.date(2018, 7, 18),\n",
       " datetime.date(2018, 7, 19),\n",
       " datetime.date(2018, 7, 20),\n",
       " datetime.date(2018, 7, 23),\n",
       " datetime.date(2018, 7, 24),\n",
       " datetime.date(2018, 7, 25),\n",
       " datetime.date(2018, 7, 26),\n",
       " datetime.date(2018, 7, 27),\n",
       " datetime.date(2018, 7, 30),\n",
       " datetime.date(2018, 7, 31),\n",
       " datetime.date(2018, 8, 1),\n",
       " datetime.date(2018, 8, 2),\n",
       " datetime.date(2018, 8, 3),\n",
       " datetime.date(2018, 8, 6),\n",
       " datetime.date(2018, 8, 7),\n",
       " datetime.date(2018, 8, 8),\n",
       " datetime.date(2018, 8, 9),\n",
       " datetime.date(2018, 8, 10),\n",
       " datetime.date(2018, 8, 13),\n",
       " datetime.date(2018, 8, 14),\n",
       " datetime.date(2018, 8, 15),\n",
       " datetime.date(2018, 8, 16),\n",
       " datetime.date(2018, 8, 17),\n",
       " datetime.date(2018, 8, 20),\n",
       " datetime.date(2018, 8, 21),\n",
       " datetime.date(2018, 8, 22),\n",
       " datetime.date(2018, 8, 23),\n",
       " datetime.date(2018, 8, 24),\n",
       " datetime.date(2018, 8, 27),\n",
       " datetime.date(2018, 8, 28),\n",
       " datetime.date(2018, 8, 29),\n",
       " datetime.date(2018, 8, 30),\n",
       " datetime.date(2018, 8, 31),\n",
       " datetime.date(2018, 9, 3),\n",
       " datetime.date(2018, 9, 4),\n",
       " datetime.date(2018, 9, 5),\n",
       " datetime.date(2018, 9, 6),\n",
       " datetime.date(2018, 9, 7),\n",
       " datetime.date(2018, 9, 10),\n",
       " datetime.date(2018, 9, 11),\n",
       " datetime.date(2018, 9, 12),\n",
       " datetime.date(2018, 9, 13),\n",
       " datetime.date(2018, 9, 14),\n",
       " datetime.date(2018, 9, 17),\n",
       " datetime.date(2018, 9, 18),\n",
       " datetime.date(2018, 9, 19),\n",
       " datetime.date(2018, 9, 20),\n",
       " datetime.date(2018, 9, 21),\n",
       " datetime.date(2018, 9, 24),\n",
       " datetime.date(2018, 9, 25),\n",
       " datetime.date(2018, 9, 26),\n",
       " datetime.date(2018, 9, 27),\n",
       " datetime.date(2018, 9, 28),\n",
       " datetime.date(2018, 10, 1),\n",
       " datetime.date(2018, 10, 2),\n",
       " datetime.date(2018, 10, 3),\n",
       " datetime.date(2018, 10, 4),\n",
       " datetime.date(2018, 10, 5),\n",
       " datetime.date(2018, 10, 8),\n",
       " datetime.date(2018, 10, 9),\n",
       " datetime.date(2018, 10, 10),\n",
       " datetime.date(2018, 10, 11),\n",
       " datetime.date(2018, 10, 12),\n",
       " datetime.date(2018, 10, 15),\n",
       " datetime.date(2018, 10, 16),\n",
       " datetime.date(2018, 10, 17),\n",
       " datetime.date(2018, 10, 18),\n",
       " datetime.date(2018, 10, 19),\n",
       " datetime.date(2018, 10, 22),\n",
       " datetime.date(2018, 10, 23),\n",
       " datetime.date(2018, 10, 24),\n",
       " datetime.date(2018, 10, 25),\n",
       " datetime.date(2018, 10, 26),\n",
       " datetime.date(2018, 10, 29),\n",
       " datetime.date(2018, 10, 30),\n",
       " datetime.date(2018, 10, 31),\n",
       " datetime.date(2018, 11, 1),\n",
       " datetime.date(2018, 11, 2),\n",
       " datetime.date(2018, 11, 5),\n",
       " datetime.date(2018, 11, 6),\n",
       " datetime.date(2018, 11, 7),\n",
       " datetime.date(2018, 11, 8),\n",
       " datetime.date(2018, 11, 9),\n",
       " datetime.date(2018, 11, 12),\n",
       " datetime.date(2018, 11, 13),\n",
       " datetime.date(2018, 11, 14),\n",
       " datetime.date(2018, 11, 15),\n",
       " datetime.date(2018, 11, 16),\n",
       " datetime.date(2018, 11, 19),\n",
       " datetime.date(2018, 11, 20),\n",
       " datetime.date(2018, 11, 21),\n",
       " datetime.date(2018, 11, 22),\n",
       " datetime.date(2018, 11, 23),\n",
       " datetime.date(2018, 11, 26),\n",
       " datetime.date(2018, 11, 27),\n",
       " datetime.date(2018, 11, 28),\n",
       " datetime.date(2018, 11, 29),\n",
       " datetime.date(2018, 11, 30),\n",
       " datetime.date(2018, 12, 3),\n",
       " datetime.date(2018, 12, 4),\n",
       " datetime.date(2018, 12, 5),\n",
       " datetime.date(2018, 12, 6),\n",
       " datetime.date(2018, 12, 7),\n",
       " datetime.date(2018, 12, 10),\n",
       " datetime.date(2018, 12, 11),\n",
       " datetime.date(2018, 12, 12),\n",
       " datetime.date(2018, 12, 13),\n",
       " datetime.date(2018, 12, 14),\n",
       " datetime.date(2018, 12, 17),\n",
       " datetime.date(2018, 12, 18),\n",
       " datetime.date(2018, 12, 19),\n",
       " datetime.date(2018, 12, 20),\n",
       " datetime.date(2018, 12, 21),\n",
       " datetime.date(2018, 12, 24),\n",
       " datetime.date(2018, 12, 25),\n",
       " datetime.date(2018, 12, 26),\n",
       " datetime.date(2018, 12, 27),\n",
       " datetime.date(2018, 12, 28),\n",
       " datetime.date(2018, 12, 31),\n",
       " datetime.date(2019, 1, 1),\n",
       " datetime.date(2019, 1, 2),\n",
       " datetime.date(2019, 1, 3),\n",
       " datetime.date(2019, 1, 4),\n",
       " datetime.date(2019, 1, 7),\n",
       " datetime.date(2019, 1, 8),\n",
       " datetime.date(2019, 1, 9),\n",
       " datetime.date(2019, 1, 10),\n",
       " datetime.date(2019, 1, 11),\n",
       " datetime.date(2019, 1, 14),\n",
       " datetime.date(2019, 1, 15),\n",
       " datetime.date(2019, 1, 16),\n",
       " datetime.date(2019, 1, 17),\n",
       " datetime.date(2019, 1, 18),\n",
       " datetime.date(2019, 1, 21),\n",
       " datetime.date(2019, 1, 22),\n",
       " datetime.date(2019, 1, 23),\n",
       " datetime.date(2019, 1, 24),\n",
       " datetime.date(2019, 1, 25),\n",
       " datetime.date(2019, 1, 28),\n",
       " datetime.date(2019, 1, 29),\n",
       " datetime.date(2019, 1, 30),\n",
       " datetime.date(2019, 1, 31),\n",
       " datetime.date(2019, 2, 1),\n",
       " datetime.date(2019, 2, 4),\n",
       " datetime.date(2019, 2, 5),\n",
       " datetime.date(2019, 2, 6),\n",
       " datetime.date(2019, 2, 7),\n",
       " datetime.date(2019, 2, 8),\n",
       " datetime.date(2019, 2, 11),\n",
       " datetime.date(2019, 2, 12),\n",
       " datetime.date(2019, 2, 13),\n",
       " datetime.date(2019, 2, 14),\n",
       " datetime.date(2019, 2, 15),\n",
       " datetime.date(2019, 2, 18),\n",
       " datetime.date(2019, 2, 19),\n",
       " datetime.date(2019, 2, 20),\n",
       " datetime.date(2019, 2, 21),\n",
       " datetime.date(2019, 2, 22),\n",
       " datetime.date(2019, 2, 25),\n",
       " datetime.date(2019, 2, 26),\n",
       " datetime.date(2019, 2, 27),\n",
       " datetime.date(2019, 2, 28),\n",
       " datetime.date(2019, 3, 1),\n",
       " datetime.date(2019, 3, 4),\n",
       " datetime.date(2019, 3, 5),\n",
       " datetime.date(2019, 3, 6),\n",
       " datetime.date(2019, 3, 7),\n",
       " datetime.date(2019, 3, 8),\n",
       " datetime.date(2019, 3, 11),\n",
       " datetime.date(2019, 3, 12),\n",
       " datetime.date(2019, 3, 13),\n",
       " datetime.date(2019, 3, 14),\n",
       " datetime.date(2019, 3, 15),\n",
       " datetime.date(2019, 3, 18),\n",
       " datetime.date(2019, 3, 19),\n",
       " datetime.date(2019, 3, 20),\n",
       " datetime.date(2019, 3, 21),\n",
       " datetime.date(2019, 3, 22),\n",
       " datetime.date(2019, 3, 25),\n",
       " datetime.date(2019, 3, 26),\n",
       " datetime.date(2019, 3, 27),\n",
       " datetime.date(2019, 3, 28),\n",
       " datetime.date(2019, 3, 29),\n",
       " datetime.date(2019, 4, 1),\n",
       " datetime.date(2019, 4, 2),\n",
       " datetime.date(2019, 4, 3),\n",
       " datetime.date(2019, 4, 4),\n",
       " datetime.date(2019, 4, 5),\n",
       " datetime.date(2019, 4, 8),\n",
       " datetime.date(2019, 4, 9),\n",
       " datetime.date(2019, 4, 10),\n",
       " datetime.date(2019, 4, 11),\n",
       " datetime.date(2019, 4, 12),\n",
       " datetime.date(2019, 4, 15),\n",
       " datetime.date(2019, 4, 16),\n",
       " datetime.date(2019, 4, 17),\n",
       " datetime.date(2019, 4, 18),\n",
       " datetime.date(2019, 4, 19),\n",
       " datetime.date(2019, 4, 22),\n",
       " datetime.date(2019, 4, 23),\n",
       " datetime.date(2019, 4, 24),\n",
       " datetime.date(2019, 4, 25),\n",
       " datetime.date(2019, 4, 26),\n",
       " datetime.date(2019, 4, 29),\n",
       " datetime.date(2019, 4, 30),\n",
       " datetime.date(2019, 5, 1),\n",
       " datetime.date(2019, 5, 2),\n",
       " datetime.date(2019, 5, 3),\n",
       " datetime.date(2019, 5, 6),\n",
       " datetime.date(2019, 5, 7),\n",
       " datetime.date(2019, 5, 8),\n",
       " datetime.date(2019, 5, 9),\n",
       " datetime.date(2019, 5, 10),\n",
       " datetime.date(2019, 5, 13),\n",
       " datetime.date(2019, 5, 14),\n",
       " datetime.date(2019, 5, 15),\n",
       " datetime.date(2019, 5, 16),\n",
       " datetime.date(2019, 5, 17),\n",
       " datetime.date(2019, 5, 20),\n",
       " datetime.date(2019, 5, 21),\n",
       " datetime.date(2019, 5, 22),\n",
       " datetime.date(2019, 5, 23),\n",
       " datetime.date(2019, 5, 24),\n",
       " datetime.date(2019, 5, 27),\n",
       " datetime.date(2019, 5, 28),\n",
       " datetime.date(2019, 5, 29),\n",
       " datetime.date(2019, 5, 30),\n",
       " datetime.date(2019, 5, 31),\n",
       " datetime.date(2019, 6, 3),\n",
       " datetime.date(2019, 6, 4),\n",
       " datetime.date(2019, 6, 5),\n",
       " datetime.date(2019, 6, 6),\n",
       " datetime.date(2019, 6, 7),\n",
       " datetime.date(2019, 6, 10),\n",
       " datetime.date(2019, 6, 11),\n",
       " datetime.date(2019, 6, 12),\n",
       " datetime.date(2019, 6, 13),\n",
       " datetime.date(2019, 6, 14),\n",
       " datetime.date(2019, 6, 17),\n",
       " datetime.date(2019, 6, 18),\n",
       " datetime.date(2019, 6, 19),\n",
       " datetime.date(2019, 6, 20),\n",
       " datetime.date(2019, 6, 21),\n",
       " datetime.date(2019, 6, 24),\n",
       " datetime.date(2019, 6, 25),\n",
       " datetime.date(2019, 6, 26),\n",
       " datetime.date(2019, 6, 27),\n",
       " datetime.date(2019, 6, 28),\n",
       " datetime.date(2019, 7, 1),\n",
       " datetime.date(2019, 7, 2),\n",
       " datetime.date(2019, 7, 3),\n",
       " datetime.date(2019, 7, 4),\n",
       " datetime.date(2019, 7, 5),\n",
       " datetime.date(2019, 7, 8),\n",
       " datetime.date(2019, 7, 9),\n",
       " datetime.date(2019, 7, 10),\n",
       " datetime.date(2019, 7, 11),\n",
       " datetime.date(2019, 7, 12),\n",
       " datetime.date(2019, 7, 15),\n",
       " datetime.date(2019, 7, 16),\n",
       " datetime.date(2019, 7, 17),\n",
       " datetime.date(2019, 7, 18),\n",
       " datetime.date(2019, 7, 19),\n",
       " datetime.date(2019, 7, 22),\n",
       " datetime.date(2019, 7, 23),\n",
       " datetime.date(2019, 7, 24),\n",
       " datetime.date(2019, 7, 25),\n",
       " datetime.date(2019, 7, 26),\n",
       " datetime.date(2019, 7, 29),\n",
       " datetime.date(2019, 7, 30),\n",
       " datetime.date(2019, 7, 31),\n",
       " datetime.date(2019, 8, 1),\n",
       " datetime.date(2019, 8, 2),\n",
       " datetime.date(2019, 8, 5),\n",
       " datetime.date(2019, 8, 6),\n",
       " datetime.date(2019, 8, 7),\n",
       " datetime.date(2019, 8, 8),\n",
       " datetime.date(2019, 8, 9),\n",
       " datetime.date(2019, 8, 12),\n",
       " datetime.date(2019, 8, 13),\n",
       " datetime.date(2019, 8, 14),\n",
       " datetime.date(2019, 8, 15),\n",
       " datetime.date(2019, 8, 16),\n",
       " datetime.date(2019, 8, 19),\n",
       " datetime.date(2019, 8, 20),\n",
       " datetime.date(2019, 8, 21),\n",
       " datetime.date(2019, 8, 22),\n",
       " datetime.date(2019, 8, 23),\n",
       " datetime.date(2019, 8, 26),\n",
       " datetime.date(2019, 8, 27),\n",
       " datetime.date(2019, 8, 28),\n",
       " datetime.date(2019, 8, 29),\n",
       " datetime.date(2019, 8, 30),\n",
       " datetime.date(2019, 9, 2),\n",
       " datetime.date(2019, 9, 3),\n",
       " datetime.date(2019, 9, 4),\n",
       " datetime.date(2019, 9, 5),\n",
       " datetime.date(2019, 9, 6),\n",
       " datetime.date(2019, 9, 9),\n",
       " datetime.date(2019, 9, 10),\n",
       " datetime.date(2019, 9, 11),\n",
       " datetime.date(2019, 9, 12),\n",
       " datetime.date(2019, 9, 13),\n",
       " datetime.date(2019, 9, 16),\n",
       " datetime.date(2019, 9, 17),\n",
       " datetime.date(2019, 9, 18),\n",
       " datetime.date(2019, 9, 19),\n",
       " datetime.date(2019, 9, 20),\n",
       " datetime.date(2019, 9, 23),\n",
       " datetime.date(2019, 9, 24),\n",
       " datetime.date(2019, 9, 25),\n",
       " datetime.date(2019, 9, 26),\n",
       " datetime.date(2019, 9, 27),\n",
       " datetime.date(2019, 9, 30),\n",
       " datetime.date(2019, 10, 1),\n",
       " datetime.date(2019, 10, 2),\n",
       " datetime.date(2019, 10, 3),\n",
       " datetime.date(2019, 10, 4),\n",
       " datetime.date(2019, 10, 7),\n",
       " datetime.date(2019, 10, 8),\n",
       " datetime.date(2019, 10, 9),\n",
       " datetime.date(2019, 10, 10),\n",
       " datetime.date(2019, 10, 11),\n",
       " datetime.date(2019, 10, 14),\n",
       " datetime.date(2019, 10, 15),\n",
       " datetime.date(2019, 10, 16),\n",
       " datetime.date(2019, 10, 17),\n",
       " datetime.date(2019, 10, 18),\n",
       " datetime.date(2019, 10, 21),\n",
       " datetime.date(2019, 10, 22),\n",
       " datetime.date(2019, 10, 23),\n",
       " datetime.date(2019, 10, 24),\n",
       " datetime.date(2019, 10, 25),\n",
       " datetime.date(2019, 10, 28),\n",
       " datetime.date(2019, 10, 29),\n",
       " datetime.date(2019, 10, 30),\n",
       " datetime.date(2019, 10, 31),\n",
       " datetime.date(2019, 11, 1),\n",
       " datetime.date(2019, 11, 4),\n",
       " datetime.date(2019, 11, 5),\n",
       " datetime.date(2019, 11, 6),\n",
       " datetime.date(2019, 11, 7),\n",
       " datetime.date(2019, 11, 8),\n",
       " datetime.date(2019, 11, 11),\n",
       " datetime.date(2019, 11, 12),\n",
       " datetime.date(2019, 11, 13),\n",
       " datetime.date(2019, 11, 14),\n",
       " datetime.date(2019, 11, 15),\n",
       " datetime.date(2019, 11, 18),\n",
       " datetime.date(2019, 11, 19),\n",
       " datetime.date(2019, 11, 20),\n",
       " datetime.date(2019, 11, 21),\n",
       " datetime.date(2019, 11, 22),\n",
       " datetime.date(2019, 11, 25),\n",
       " datetime.date(2019, 11, 26),\n",
       " datetime.date(2019, 11, 27),\n",
       " datetime.date(2019, 11, 28),\n",
       " datetime.date(2019, 11, 29),\n",
       " datetime.date(2019, 12, 2),\n",
       " datetime.date(2019, 12, 3),\n",
       " datetime.date(2019, 12, 4),\n",
       " datetime.date(2019, 12, 5),\n",
       " datetime.date(2019, 12, 6),\n",
       " datetime.date(2019, 12, 9),\n",
       " datetime.date(2019, 12, 10),\n",
       " datetime.date(2019, 12, 11),\n",
       " datetime.date(2019, 12, 12),\n",
       " datetime.date(2019, 12, 13),\n",
       " datetime.date(2019, 12, 16),\n",
       " datetime.date(2019, 12, 17),\n",
       " datetime.date(2019, 12, 18),\n",
       " datetime.date(2019, 12, 19),\n",
       " datetime.date(2019, 12, 20),\n",
       " datetime.date(2019, 12, 23),\n",
       " datetime.date(2019, 12, 24),\n",
       " datetime.date(2019, 12, 25),\n",
       " datetime.date(2019, 12, 26),\n",
       " datetime.date(2019, 12, 27),\n",
       " datetime.date(2019, 12, 30),\n",
       " datetime.date(2019, 12, 31),\n",
       " datetime.date(2020, 1, 1),\n",
       " datetime.date(2020, 1, 2),\n",
       " datetime.date(2020, 1, 3),\n",
       " datetime.date(2020, 1, 6),\n",
       " datetime.date(2020, 1, 7),\n",
       " datetime.date(2020, 1, 8),\n",
       " datetime.date(2020, 1, 9),\n",
       " datetime.date(2020, 1, 10),\n",
       " datetime.date(2020, 1, 13),\n",
       " datetime.date(2020, 1, 14),\n",
       " datetime.date(2020, 1, 15),\n",
       " datetime.date(2020, 1, 16),\n",
       " datetime.date(2020, 1, 17),\n",
       " datetime.date(2020, 1, 20),\n",
       " datetime.date(2020, 1, 21),\n",
       " datetime.date(2020, 1, 22),\n",
       " datetime.date(2020, 1, 23),\n",
       " datetime.date(2020, 1, 24),\n",
       " datetime.date(2020, 1, 27),\n",
       " datetime.date(2020, 1, 28),\n",
       " datetime.date(2020, 1, 29),\n",
       " datetime.date(2020, 1, 30),\n",
       " datetime.date(2020, 1, 31),\n",
       " datetime.date(2020, 2, 3),\n",
       " datetime.date(2020, 2, 4),\n",
       " datetime.date(2020, 2, 5),\n",
       " datetime.date(2020, 2, 6),\n",
       " datetime.date(2020, 2, 7),\n",
       " datetime.date(2020, 2, 10),\n",
       " datetime.date(2020, 2, 11),\n",
       " datetime.date(2020, 2, 12),\n",
       " datetime.date(2020, 2, 13),\n",
       " datetime.date(2020, 2, 14),\n",
       " datetime.date(2020, 2, 17),\n",
       " datetime.date(2020, 2, 18),\n",
       " datetime.date(2020, 2, 19),\n",
       " datetime.date(2020, 2, 20),\n",
       " datetime.date(2020, 2, 21),\n",
       " datetime.date(2020, 2, 24),\n",
       " datetime.date(2020, 2, 25),\n",
       " datetime.date(2020, 2, 26),\n",
       " datetime.date(2020, 2, 27),\n",
       " datetime.date(2020, 2, 28),\n",
       " datetime.date(2020, 3, 2),\n",
       " datetime.date(2020, 3, 3),\n",
       " datetime.date(2020, 3, 4),\n",
       " datetime.date(2020, 3, 5),\n",
       " datetime.date(2020, 3, 6),\n",
       " datetime.date(2020, 3, 9),\n",
       " datetime.date(2020, 3, 10),\n",
       " datetime.date(2020, 3, 11),\n",
       " datetime.date(2020, 3, 12),\n",
       " datetime.date(2020, 3, 13),\n",
       " datetime.date(2020, 3, 16),\n",
       " datetime.date(2020, 3, 17),\n",
       " datetime.date(2020, 3, 18),\n",
       " datetime.date(2020, 3, 19),\n",
       " datetime.date(2020, 3, 20),\n",
       " datetime.date(2020, 3, 23),\n",
       " datetime.date(2020, 3, 24),\n",
       " datetime.date(2020, 3, 25),\n",
       " datetime.date(2020, 3, 26),\n",
       " datetime.date(2020, 3, 27),\n",
       " datetime.date(2020, 3, 30),\n",
       " datetime.date(2020, 3, 31),\n",
       " datetime.date(2020, 4, 1),\n",
       " datetime.date(2020, 4, 2),\n",
       " datetime.date(2020, 4, 3),\n",
       " datetime.date(2020, 4, 6),\n",
       " datetime.date(2020, 4, 7),\n",
       " datetime.date(2020, 4, 8),\n",
       " datetime.date(2020, 4, 9),\n",
       " datetime.date(2020, 4, 10),\n",
       " datetime.date(2020, 4, 13),\n",
       " datetime.date(2020, 4, 14),\n",
       " datetime.date(2020, 4, 15),\n",
       " datetime.date(2020, 4, 16),\n",
       " datetime.date(2020, 4, 17),\n",
       " datetime.date(2020, 4, 20),\n",
       " datetime.date(2020, 4, 21),\n",
       " datetime.date(2020, 4, 22),\n",
       " datetime.date(2020, 4, 23),\n",
       " datetime.date(2020, 4, 24),\n",
       " datetime.date(2020, 4, 27),\n",
       " datetime.date(2020, 4, 28),\n",
       " datetime.date(2020, 4, 29),\n",
       " datetime.date(2020, 4, 30),\n",
       " datetime.date(2020, 5, 1),\n",
       " datetime.date(2020, 5, 4),\n",
       " datetime.date(2020, 5, 5),\n",
       " datetime.date(2020, 5, 6),\n",
       " datetime.date(2020, 5, 7),\n",
       " datetime.date(2020, 5, 8),\n",
       " datetime.date(2020, 5, 11),\n",
       " datetime.date(2020, 5, 12),\n",
       " datetime.date(2020, 5, 13),\n",
       " datetime.date(2020, 5, 14),\n",
       " datetime.date(2020, 5, 15),\n",
       " datetime.date(2020, 5, 18),\n",
       " datetime.date(2020, 5, 19),\n",
       " datetime.date(2020, 5, 20),\n",
       " datetime.date(2020, 5, 21),\n",
       " datetime.date(2020, 5, 22),\n",
       " datetime.date(2020, 5, 25),\n",
       " datetime.date(2020, 5, 26),\n",
       " datetime.date(2020, 5, 27),\n",
       " datetime.date(2020, 5, 28),\n",
       " datetime.date(2020, 5, 29),\n",
       " datetime.date(2020, 6, 1),\n",
       " datetime.date(2020, 6, 2),\n",
       " datetime.date(2020, 6, 3),\n",
       " datetime.date(2020, 6, 4),\n",
       " datetime.date(2020, 6, 5),\n",
       " datetime.date(2020, 6, 8),\n",
       " datetime.date(2020, 6, 9),\n",
       " datetime.date(2020, 6, 10),\n",
       " datetime.date(2020, 6, 11),\n",
       " datetime.date(2020, 6, 12),\n",
       " datetime.date(2020, 6, 15),\n",
       " datetime.date(2020, 6, 16),\n",
       " datetime.date(2020, 6, 17),\n",
       " datetime.date(2020, 6, 18),\n",
       " datetime.date(2020, 6, 19),\n",
       " datetime.date(2020, 6, 22),\n",
       " datetime.date(2020, 6, 23),\n",
       " datetime.date(2020, 6, 24),\n",
       " datetime.date(2020, 6, 25),\n",
       " datetime.date(2020, 6, 26),\n",
       " datetime.date(2020, 6, 29),\n",
       " datetime.date(2020, 6, 30),\n",
       " datetime.date(2020, 7, 1),\n",
       " datetime.date(2020, 7, 2),\n",
       " datetime.date(2020, 7, 3),\n",
       " datetime.date(2020, 7, 6),\n",
       " datetime.date(2020, 7, 7),\n",
       " datetime.date(2020, 7, 8),\n",
       " datetime.date(2020, 7, 9),\n",
       " datetime.date(2020, 7, 10),\n",
       " datetime.date(2020, 7, 13),\n",
       " datetime.date(2020, 7, 14),\n",
       " datetime.date(2020, 7, 15),\n",
       " datetime.date(2020, 7, 16),\n",
       " datetime.date(2020, 7, 17),\n",
       " datetime.date(2020, 7, 20),\n",
       " datetime.date(2020, 7, 21),\n",
       " datetime.date(2020, 7, 22),\n",
       " datetime.date(2020, 7, 23),\n",
       " datetime.date(2020, 7, 24),\n",
       " datetime.date(2020, 7, 27),\n",
       " datetime.date(2020, 7, 28),\n",
       " datetime.date(2020, 7, 29),\n",
       " datetime.date(2020, 7, 30),\n",
       " datetime.date(2020, 7, 31),\n",
       " datetime.date(2020, 8, 3),\n",
       " datetime.date(2020, 8, 4),\n",
       " datetime.date(2020, 8, 5),\n",
       " datetime.date(2020, 8, 6),\n",
       " datetime.date(2020, 8, 7),\n",
       " datetime.date(2020, 8, 10),\n",
       " datetime.date(2020, 8, 11),\n",
       " datetime.date(2020, 8, 12),\n",
       " datetime.date(2020, 8, 13),\n",
       " datetime.date(2020, 8, 14),\n",
       " datetime.date(2020, 8, 17),\n",
       " datetime.date(2020, 8, 18),\n",
       " datetime.date(2020, 8, 19),\n",
       " datetime.date(2020, 8, 20),\n",
       " datetime.date(2020, 8, 21),\n",
       " datetime.date(2020, 8, 24),\n",
       " datetime.date(2020, 8, 25),\n",
       " datetime.date(2020, 8, 26),\n",
       " datetime.date(2020, 8, 27),\n",
       " datetime.date(2020, 8, 28),\n",
       " datetime.date(2020, 8, 31),\n",
       " datetime.date(2020, 9, 1),\n",
       " datetime.date(2020, 9, 2),\n",
       " datetime.date(2020, 9, 3),\n",
       " datetime.date(2020, 9, 4),\n",
       " datetime.date(2020, 9, 7),\n",
       " datetime.date(2020, 9, 8),\n",
       " datetime.date(2020, 9, 9),\n",
       " datetime.date(2020, 9, 10),\n",
       " datetime.date(2020, 9, 11),\n",
       " datetime.date(2020, 9, 14),\n",
       " datetime.date(2020, 9, 15),\n",
       " datetime.date(2020, 9, 16),\n",
       " datetime.date(2020, 9, 17),\n",
       " datetime.date(2020, 9, 18),\n",
       " datetime.date(2020, 9, 21),\n",
       " datetime.date(2020, 9, 22),\n",
       " datetime.date(2020, 9, 23),\n",
       " datetime.date(2020, 9, 24),\n",
       " datetime.date(2020, 9, 25),\n",
       " datetime.date(2020, 9, 28),\n",
       " datetime.date(2020, 9, 29),\n",
       " datetime.date(2020, 9, 30),\n",
       " datetime.date(2020, 10, 1),\n",
       " datetime.date(2020, 10, 2),\n",
       " datetime.date(2020, 10, 5),\n",
       " datetime.date(2020, 10, 6),\n",
       " datetime.date(2020, 10, 7),\n",
       " datetime.date(2020, 10, 8),\n",
       " datetime.date(2020, 10, 9),\n",
       " datetime.date(2020, 10, 12),\n",
       " datetime.date(2020, 10, 13),\n",
       " datetime.date(2020, 10, 14),\n",
       " datetime.date(2020, 10, 15),\n",
       " datetime.date(2020, 10, 16),\n",
       " datetime.date(2020, 10, 19),\n",
       " datetime.date(2020, 10, 20),\n",
       " datetime.date(2020, 10, 21),\n",
       " datetime.date(2020, 10, 22),\n",
       " datetime.date(2020, 10, 23),\n",
       " datetime.date(2020, 10, 26),\n",
       " datetime.date(2020, 10, 27),\n",
       " datetime.date(2020, 10, 28),\n",
       " datetime.date(2020, 10, 29),\n",
       " datetime.date(2020, 10, 30),\n",
       " datetime.date(2020, 11, 2),\n",
       " datetime.date(2020, 11, 3),\n",
       " datetime.date(2020, 11, 4),\n",
       " datetime.date(2020, 11, 5),\n",
       " datetime.date(2020, 11, 6),\n",
       " datetime.date(2020, 11, 9),\n",
       " datetime.date(2020, 11, 10),\n",
       " datetime.date(2020, 11, 11),\n",
       " datetime.date(2020, 11, 12),\n",
       " datetime.date(2020, 11, 13),\n",
       " datetime.date(2020, 11, 16),\n",
       " datetime.date(2020, 11, 17),\n",
       " datetime.date(2020, 11, 18),\n",
       " datetime.date(2020, 11, 19),\n",
       " datetime.date(2020, 11, 20),\n",
       " datetime.date(2020, 11, 23),\n",
       " datetime.date(2020, 11, 24),\n",
       " datetime.date(2020, 11, 25),\n",
       " datetime.date(2020, 11, 26),\n",
       " datetime.date(2020, 11, 27),\n",
       " datetime.date(2020, 11, 30),\n",
       " datetime.date(2020, 12, 1),\n",
       " datetime.date(2020, 12, 2),\n",
       " datetime.date(2020, 12, 3),\n",
       " datetime.date(2020, 12, 4),\n",
       " datetime.date(2020, 12, 7),\n",
       " datetime.date(2020, 12, 8),\n",
       " datetime.date(2020, 12, 9),\n",
       " datetime.date(2020, 12, 10),\n",
       " datetime.date(2020, 12, 11),\n",
       " datetime.date(2020, 12, 14),\n",
       " datetime.date(2020, 12, 15),\n",
       " datetime.date(2020, 12, 16),\n",
       " datetime.date(2020, 12, 17),\n",
       " datetime.date(2020, 12, 18),\n",
       " datetime.date(2020, 12, 21),\n",
       " datetime.date(2020, 12, 22),\n",
       " datetime.date(2020, 12, 23),\n",
       " datetime.date(2020, 12, 24),\n",
       " datetime.date(2020, 12, 25),\n",
       " datetime.date(2020, 12, 28),\n",
       " datetime.date(2020, 12, 29),\n",
       " datetime.date(2020, 12, 30),\n",
       " datetime.date(2020, 12, 31),\n",
       " datetime.date(2021, 1, 1),\n",
       " datetime.date(2021, 1, 4),\n",
       " datetime.date(2021, 1, 5),\n",
       " datetime.date(2021, 1, 6),\n",
       " datetime.date(2021, 1, 7),\n",
       " datetime.date(2021, 1, 8),\n",
       " datetime.date(2021, 1, 11),\n",
       " datetime.date(2021, 1, 12),\n",
       " datetime.date(2021, 1, 13),\n",
       " datetime.date(2021, 1, 14),\n",
       " datetime.date(2021, 1, 15),\n",
       " datetime.date(2021, 1, 18),\n",
       " datetime.date(2021, 1, 19),\n",
       " datetime.date(2021, 1, 20),\n",
       " datetime.date(2021, 1, 21),\n",
       " datetime.date(2021, 1, 22),\n",
       " datetime.date(2021, 1, 25),\n",
       " datetime.date(2021, 1, 26),\n",
       " datetime.date(2021, 1, 27),\n",
       " datetime.date(2021, 1, 28),\n",
       " datetime.date(2021, 1, 29),\n",
       " datetime.date(2021, 2, 1),\n",
       " datetime.date(2021, 2, 2),\n",
       " datetime.date(2021, 2, 3),\n",
       " datetime.date(2021, 2, 4),\n",
       " datetime.date(2021, 2, 5),\n",
       " datetime.date(2021, 2, 8),\n",
       " datetime.date(2021, 2, 9),\n",
       " datetime.date(2021, 2, 10),\n",
       " datetime.date(2021, 2, 11),\n",
       " datetime.date(2021, 2, 12),\n",
       " datetime.date(2021, 2, 15),\n",
       " datetime.date(2021, 2, 16),\n",
       " datetime.date(2021, 2, 17),\n",
       " datetime.date(2021, 2, 18),\n",
       " datetime.date(2021, 2, 19),\n",
       " datetime.date(2021, 2, 22),\n",
       " datetime.date(2021, 2, 23),\n",
       " datetime.date(2021, 2, 24),\n",
       " datetime.date(2021, 2, 25),\n",
       " datetime.date(2021, 2, 26),\n",
       " datetime.date(2021, 3, 1),\n",
       " datetime.date(2021, 3, 2),\n",
       " datetime.date(2021, 3, 3),\n",
       " datetime.date(2021, 3, 4),\n",
       " datetime.date(2021, 3, 5),\n",
       " datetime.date(2021, 3, 8),\n",
       " datetime.date(2021, 3, 9),\n",
       " datetime.date(2021, 3, 10),\n",
       " datetime.date(2021, 3, 11),\n",
       " datetime.date(2021, 3, 12),\n",
       " datetime.date(2021, 3, 15),\n",
       " datetime.date(2021, 3, 16),\n",
       " datetime.date(2021, 3, 17),\n",
       " datetime.date(2021, 3, 18),\n",
       " datetime.date(2021, 3, 19),\n",
       " datetime.date(2021, 3, 22),\n",
       " datetime.date(2021, 3, 23),\n",
       " datetime.date(2021, 3, 24),\n",
       " datetime.date(2021, 3, 25),\n",
       " datetime.date(2021, 3, 26),\n",
       " datetime.date(2021, 3, 29),\n",
       " datetime.date(2021, 3, 30),\n",
       " datetime.date(2021, 3, 31),\n",
       " datetime.date(2021, 4, 1),\n",
       " datetime.date(2021, 4, 2),\n",
       " datetime.date(2021, 4, 5),\n",
       " datetime.date(2021, 4, 6),\n",
       " datetime.date(2021, 4, 7),\n",
       " datetime.date(2021, 4, 8),\n",
       " datetime.date(2021, 4, 9),\n",
       " datetime.date(2021, 4, 12),\n",
       " datetime.date(2021, 4, 13),\n",
       " datetime.date(2021, 4, 14),\n",
       " datetime.date(2021, 4, 15),\n",
       " datetime.date(2021, 4, 16),\n",
       " datetime.date(2021, 4, 19),\n",
       " datetime.date(2021, 4, 20),\n",
       " datetime.date(2021, 4, 21),\n",
       " datetime.date(2021, 4, 22),\n",
       " datetime.date(2021, 4, 23),\n",
       " datetime.date(2021, 4, 26),\n",
       " datetime.date(2021, 4, 27),\n",
       " datetime.date(2021, 4, 28),\n",
       " datetime.date(2021, 4, 29),\n",
       " datetime.date(2021, 4, 30),\n",
       " datetime.date(2021, 5, 3),\n",
       " datetime.date(2021, 5, 4),\n",
       " datetime.date(2021, 5, 5),\n",
       " datetime.date(2021, 5, 6),\n",
       " datetime.date(2021, 5, 7),\n",
       " datetime.date(2021, 5, 10),\n",
       " datetime.date(2021, 5, 11),\n",
       " datetime.date(2021, 5, 12),\n",
       " datetime.date(2021, 5, 13),\n",
       " datetime.date(2021, 5, 14),\n",
       " datetime.date(2021, 5, 17),\n",
       " datetime.date(2021, 5, 18),\n",
       " datetime.date(2021, 5, 19),\n",
       " datetime.date(2021, 5, 20),\n",
       " datetime.date(2021, 5, 21),\n",
       " datetime.date(2021, 5, 24),\n",
       " datetime.date(2021, 5, 25),\n",
       " datetime.date(2021, 5, 26),\n",
       " datetime.date(2021, 5, 27),\n",
       " datetime.date(2021, 5, 28),\n",
       " datetime.date(2021, 5, 31),\n",
       " datetime.date(2021, 6, 1),\n",
       " datetime.date(2021, 6, 2),\n",
       " datetime.date(2021, 6, 3),\n",
       " datetime.date(2021, 6, 4),\n",
       " datetime.date(2021, 6, 7),\n",
       " datetime.date(2021, 6, 8),\n",
       " datetime.date(2021, 6, 9),\n",
       " datetime.date(2021, 6, 10),\n",
       " datetime.date(2021, 6, 11),\n",
       " datetime.date(2021, 6, 14),\n",
       " datetime.date(2021, 6, 15),\n",
       " datetime.date(2021, 6, 16),\n",
       " datetime.date(2021, 6, 17),\n",
       " datetime.date(2021, 6, 18),\n",
       " datetime.date(2021, 6, 21),\n",
       " datetime.date(2021, 6, 22),\n",
       " datetime.date(2021, 6, 23),\n",
       " datetime.date(2021, 6, 24),\n",
       " datetime.date(2021, 6, 25),\n",
       " datetime.date(2021, 6, 28),\n",
       " datetime.date(2021, 6, 29),\n",
       " datetime.date(2021, 6, 30),\n",
       " datetime.date(2021, 7, 1),\n",
       " datetime.date(2021, 7, 2),\n",
       " datetime.date(2021, 7, 5),\n",
       " datetime.date(2021, 7, 6),\n",
       " datetime.date(2021, 7, 7),\n",
       " datetime.date(2021, 7, 8),\n",
       " datetime.date(2021, 7, 9),\n",
       " datetime.date(2021, 7, 12),\n",
       " datetime.date(2021, 7, 13),\n",
       " datetime.date(2021, 7, 14),\n",
       " datetime.date(2021, 7, 15),\n",
       " datetime.date(2021, 7, 16),\n",
       " datetime.date(2021, 7, 19),\n",
       " datetime.date(2021, 7, 20),\n",
       " datetime.date(2021, 7, 21),\n",
       " datetime.date(2021, 7, 22),\n",
       " datetime.date(2021, 7, 23),\n",
       " datetime.date(2021, 7, 26),\n",
       " datetime.date(2021, 7, 27),\n",
       " datetime.date(2021, 7, 28),\n",
       " datetime.date(2021, 7, 29),\n",
       " datetime.date(2021, 7, 30),\n",
       " datetime.date(2021, 8, 2),\n",
       " datetime.date(2021, 8, 3),\n",
       " datetime.date(2021, 8, 4),\n",
       " datetime.date(2021, 8, 5),\n",
       " datetime.date(2021, 8, 6),\n",
       " datetime.date(2021, 8, 9),\n",
       " datetime.date(2021, 8, 10),\n",
       " datetime.date(2021, 8, 11),\n",
       " datetime.date(2021, 8, 12),\n",
       " datetime.date(2021, 8, 13),\n",
       " datetime.date(2021, 8, 16),\n",
       " datetime.date(2021, 8, 17),\n",
       " datetime.date(2021, 8, 18),\n",
       " datetime.date(2021, 8, 19),\n",
       " datetime.date(2021, 8, 20),\n",
       " datetime.date(2021, 8, 23),\n",
       " datetime.date(2021, 8, 24),\n",
       " datetime.date(2021, 8, 25),\n",
       " datetime.date(2021, 8, 26),\n",
       " datetime.date(2021, 8, 27),\n",
       " datetime.date(2021, 8, 30),\n",
       " datetime.date(2021, 8, 31),\n",
       " datetime.date(2021, 9, 1),\n",
       " datetime.date(2021, 9, 2),\n",
       " datetime.date(2021, 9, 3),\n",
       " datetime.date(2021, 9, 6),\n",
       " datetime.date(2021, 9, 7),\n",
       " datetime.date(2021, 9, 8),\n",
       " datetime.date(2021, 9, 9),\n",
       " datetime.date(2021, 9, 10),\n",
       " datetime.date(2021, 9, 13),\n",
       " datetime.date(2021, 9, 14),\n",
       " datetime.date(2021, 9, 15),\n",
       " datetime.date(2021, 9, 16),\n",
       " datetime.date(2021, 9, 17),\n",
       " datetime.date(2021, 9, 20),\n",
       " datetime.date(2021, 9, 21),\n",
       " datetime.date(2021, 9, 22),\n",
       " datetime.date(2021, 9, 23),\n",
       " datetime.date(2021, 9, 24),\n",
       " datetime.date(2021, 9, 27),\n",
       " datetime.date(2021, 9, 28),\n",
       " datetime.date(2021, 9, 29),\n",
       " datetime.date(2021, 9, 30),\n",
       " datetime.date(2021, 10, 1),\n",
       " datetime.date(2021, 10, 4),\n",
       " datetime.date(2021, 10, 5),\n",
       " datetime.date(2021, 10, 6),\n",
       " datetime.date(2021, 10, 7),\n",
       " datetime.date(2021, 10, 8),\n",
       " datetime.date(2021, 10, 11),\n",
       " datetime.date(2021, 10, 12),\n",
       " datetime.date(2021, 10, 13),\n",
       " datetime.date(2021, 10, 14),\n",
       " datetime.date(2021, 10, 15),\n",
       " datetime.date(2021, 10, 18),\n",
       " datetime.date(2021, 10, 19),\n",
       " datetime.date(2021, 10, 20),\n",
       " datetime.date(2021, 10, 21),\n",
       " datetime.date(2021, 10, 22),\n",
       " datetime.date(2021, 10, 25),\n",
       " datetime.date(2021, 10, 26),\n",
       " datetime.date(2021, 10, 27),\n",
       " datetime.date(2021, 10, 28),\n",
       " datetime.date(2021, 10, 29),\n",
       " datetime.date(2021, 11, 1),\n",
       " datetime.date(2021, 11, 2),\n",
       " datetime.date(2021, 11, 3),\n",
       " datetime.date(2021, 11, 4),\n",
       " datetime.date(2021, 11, 5),\n",
       " datetime.date(2021, 11, 8),\n",
       " datetime.date(2021, 11, 9),\n",
       " datetime.date(2021, 11, 10),\n",
       " datetime.date(2021, 11, 11),\n",
       " datetime.date(2021, 11, 12),\n",
       " datetime.date(2021, 11, 15),\n",
       " datetime.date(2021, 11, 16),\n",
       " datetime.date(2021, 11, 17),\n",
       " datetime.date(2021, 11, 18),\n",
       " datetime.date(2021, 11, 19),\n",
       " datetime.date(2021, 11, 22),\n",
       " datetime.date(2021, 11, 23),\n",
       " datetime.date(2021, 11, 24),\n",
       " datetime.date(2021, 11, 25),\n",
       " datetime.date(2021, 11, 26),\n",
       " datetime.date(2021, 11, 29),\n",
       " datetime.date(2021, 11, 30),\n",
       " datetime.date(2021, 12, 1),\n",
       " datetime.date(2021, 12, 2),\n",
       " datetime.date(2021, 12, 3),\n",
       " datetime.date(2021, 12, 6),\n",
       " datetime.date(2021, 12, 7),\n",
       " datetime.date(2021, 12, 8),\n",
       " datetime.date(2021, 12, 9),\n",
       " datetime.date(2021, 12, 10),\n",
       " datetime.date(2021, 12, 13),\n",
       " datetime.date(2021, 12, 14),\n",
       " datetime.date(2021, 12, 15),\n",
       " datetime.date(2021, 12, 16),\n",
       " datetime.date(2021, 12, 17),\n",
       " datetime.date(2021, 12, 20),\n",
       " datetime.date(2021, 12, 21),\n",
       " datetime.date(2021, 12, 22),\n",
       " datetime.date(2021, 12, 23),\n",
       " datetime.date(2021, 12, 24),\n",
       " datetime.date(2021, 12, 27),\n",
       " datetime.date(2021, 12, 28),\n",
       " datetime.date(2021, 12, 29),\n",
       " datetime.date(2021, 12, 30),\n",
       " datetime.date(2021, 12, 31),\n",
       " datetime.date(2022, 1, 3),\n",
       " datetime.date(2022, 1, 4),\n",
       " datetime.date(2022, 1, 5),\n",
       " datetime.date(2022, 1, 6),\n",
       " datetime.date(2022, 1, 7),\n",
       " datetime.date(2022, 1, 10),\n",
       " datetime.date(2022, 1, 11),\n",
       " datetime.date(2022, 1, 12),\n",
       " datetime.date(2022, 1, 13),\n",
       " datetime.date(2022, 1, 14),\n",
       " datetime.date(2022, 1, 17),\n",
       " datetime.date(2022, 1, 18),\n",
       " datetime.date(2022, 1, 19),\n",
       " datetime.date(2022, 1, 20),\n",
       " datetime.date(2022, 1, 21),\n",
       " datetime.date(2022, 1, 24),\n",
       " datetime.date(2022, 1, 25),\n",
       " datetime.date(2022, 1, 26),\n",
       " datetime.date(2022, 1, 27),\n",
       " datetime.date(2022, 1, 28),\n",
       " datetime.date(2022, 1, 31),\n",
       " datetime.date(2022, 2, 1),\n",
       " ...]"
      ]
     },
     "execution_count": 11,
     "metadata": {},
     "output_type": "execute_result"
    }
   ],
   "source": [
    "aa = [datetime.strptime(d, '%Y-%m-%d').date() for d in daty]\n",
    "aa"
   ]
  },
  {
   "cell_type": "code",
   "execution_count": 12,
   "id": "57c51ff7",
   "metadata": {},
   "outputs": [
    {
     "data": {
      "image/png": "[encoded data removed]",
      "text/plain": [
       "<Figure size 432x288 with 1 Axes>"
      ]
     },
     "metadata": {},
     "output_type": "display_data"
    }
   ],
   "source": [
    "plt.plot(aa, hao, color=\"teal\")\n",
    "plt.xlabel(\"Data\")\n",
    "plt.ylabel(\"USD/JPY\")\n",
    "plt.tight_layout()\n",
    "plt.savefig(\"jpy.png\")"
   ]
  },
  {
   "cell_type": "code",
   "execution_count": 13,
   "id": "23e700ac",
   "metadata": {},
   "outputs": [
    {
     "data": {
      "image/png": "[encoded data removed]",
      "text/plain": [
       "<Figure size 432x288 with 1 Axes>"
      ]
     },
     "metadata": {},
     "output_type": "display_data"
    }
   ],
   "source": [
    "plt.plot(aa, mate, color=\"teal\")\n",
    "plt.xlabel(\"Data\")\n",
    "plt.ylabel(\"USD/AUD\")\n",
    "plt.tight_layout()\n",
    "plt.savefig(\"aud.png\")"
   ]
  },
  {
   "cell_type": "code",
   "execution_count": 14,
   "id": "283a57a4",
   "metadata": {},
   "outputs": [
    {
     "name": "stdout",
     "output_type": "stream",
     "text": [
      "Series([], Name: Close, dtype: float64)\n",
      "Series([], Name: Close, dtype: float64)\n"
     ]
    }
   ],
   "source": [
    "print(hao[hao.isnull()])\n",
    "print(mate[mate.isnull()])"
   ]
  },
  {
   "cell_type": "code",
   "execution_count": 15,
   "id": "6d32bacf",
   "metadata": {},
   "outputs": [
    {
     "data": {
      "image/png": "[encoded data removed]",
      "text/plain": [
       "<Figure size 432x288 with 1 Axes>"
      ]
     },
     "metadata": {},
     "output_type": "display_data"
    }
   ],
   "source": [
    "plt.scatter(hao, mate, color=\"teal\")\n",
    "plt.xlabel(\"USD/JPY\")\n",
    "plt.ylabel(\"USD/AUD\")\n",
    "plt.tight_layout()\n",
    "plt.savefig(\"jpyaud.png\")"
   ]
  },
  {
   "cell_type": "markdown",
   "id": "0a4152e3",
   "metadata": {},
   "source": [
    "----------\n",
    "## STACJONARNOŚĆ"
   ]
  },
  {
   "cell_type": "code",
   "execution_count": 16,
   "id": "d3de7cb1",
   "metadata": {},
   "outputs": [],
   "source": [
    "from statsmodels.tsa.stattools import adfuller"
   ]
  },
  {
   "cell_type": "code",
   "execution_count": 17,
   "id": "ac9180f8",
   "metadata": {},
   "outputs": [
    {
     "data": {
      "text/plain": [
       "(-2.42730558458061,\n",
       " 0.13417743875120114,\n",
       " 0,\n",
       " 1304,\n",
       " {'1%': -3.435374708138995,\n",
       "  '5%': -2.863758995766637,\n",
       "  '10%': -2.5679514065499265},\n",
       " -8269.623830735702)"
      ]
     },
     "execution_count": 17,
     "metadata": {},
     "output_type": "execute_result"
    }
   ],
   "source": [
    "adfuller(mate)"
   ]
  },
  {
   "cell_type": "code",
   "execution_count": 18,
   "id": "6a327bb2",
   "metadata": {},
   "outputs": [
    {
     "data": {
      "text/plain": [
       "(-0.5806829316285894,\n",
       " 0.8752874251925542,\n",
       " 0,\n",
       " 1304,\n",
       " {'1%': -3.435374708138995,\n",
       "  '5%': -2.863758995766637,\n",
       "  '10%': -2.5679514065499265},\n",
       " 2465.59433901006)"
      ]
     },
     "execution_count": 18,
     "metadata": {},
     "output_type": "execute_result"
    }
   ],
   "source": [
    "adfuller(hao)"
   ]
  },
  {
   "cell_type": "code",
   "execution_count": 19,
   "id": "93c1e509",
   "metadata": {},
   "outputs": [],
   "source": [
    "from scipy.stats import pearsonr"
   ]
  },
  {
   "cell_type": "code",
   "execution_count": 20,
   "id": "15356e52",
   "metadata": {},
   "outputs": [
    {
     "name": "stdout",
     "output_type": "stream",
     "text": [
      "Pearsons correlation: 0.377\n"
     ]
    }
   ],
   "source": [
    "corr, _ = pearsonr(hao, mate)\n",
    "print('Pearsons correlation: %.3f' % corr)"
   ]
  },
  {
   "cell_type": "code",
   "execution_count": 21,
   "id": "d20f8a74",
   "metadata": {},
   "outputs": [
    {
     "ename": "NameError",
     "evalue": "name 'mate1' is not defined",
     "output_type": "error",
     "traceback": [
      "\u001b[1;31m---------------------------------------------------------------------------\u001b[0m",
      "\u001b[1;31mNameError\u001b[0m                                 Traceback (most recent call last)",
      "\u001b[1;32m<ipython-input-21-a1292f2473b4>\u001b[0m in \u001b[0;36m<module>\u001b[1;34m\u001b[0m\n\u001b[1;32m----> 1\u001b[1;33m \u001b[0mplt\u001b[0m\u001b[1;33m.\u001b[0m\u001b[0mplot\u001b[0m\u001b[1;33m(\u001b[0m\u001b[0maa\u001b[0m\u001b[1;33m[\u001b[0m\u001b[1;33m:\u001b[0m\u001b[1;33m-\u001b[0m\u001b[1;36m1\u001b[0m\u001b[1;33m]\u001b[0m\u001b[1;33m,\u001b[0m \u001b[0mmate1\u001b[0m\u001b[1;33m,\u001b[0m \u001b[0mcolor\u001b[0m\u001b[1;33m=\u001b[0m\u001b[1;34m\"teal\"\u001b[0m\u001b[1;33m)\u001b[0m\u001b[1;33m\u001b[0m\u001b[1;33m\u001b[0m\u001b[0m\n\u001b[0m\u001b[0;32m      2\u001b[0m \u001b[0mplt\u001b[0m\u001b[1;33m.\u001b[0m\u001b[0mxlabel\u001b[0m\u001b[1;33m(\u001b[0m\u001b[1;34m\"Data\"\u001b[0m\u001b[1;33m)\u001b[0m\u001b[1;33m\u001b[0m\u001b[1;33m\u001b[0m\u001b[0m\n\u001b[0;32m      3\u001b[0m \u001b[0mplt\u001b[0m\u001b[1;33m.\u001b[0m\u001b[0mylabel\u001b[0m\u001b[1;33m(\u001b[0m\u001b[1;34m\"Zmiany USD/AUD [%]\"\u001b[0m\u001b[1;33m)\u001b[0m\u001b[1;33m\u001b[0m\u001b[1;33m\u001b[0m\u001b[0m\n\u001b[0;32m      4\u001b[0m \u001b[0mplt\u001b[0m\u001b[1;33m.\u001b[0m\u001b[0mtight_layout\u001b[0m\u001b[1;33m(\u001b[0m\u001b[1;33m)\u001b[0m\u001b[1;33m\u001b[0m\u001b[1;33m\u001b[0m\u001b[0m\n\u001b[0;32m      5\u001b[0m \u001b[0mplt\u001b[0m\u001b[1;33m.\u001b[0m\u001b[0msavefig\u001b[0m\u001b[1;33m(\u001b[0m\u001b[1;34m\"AUD.png\"\u001b[0m\u001b[1;33m)\u001b[0m\u001b[1;33m\u001b[0m\u001b[1;33m\u001b[0m\u001b[0m\n",
      "\u001b[1;31mNameError\u001b[0m: name 'mate1' is not defined"
     ]
    }
   ],
   "source": [
    "plt.plot(aa[:-1], mate1, color=\"teal\")\n",
    "plt.xlabel(\"Data\")\n",
    "plt.ylabel(\"Zmiany USD/AUD [%]\")\n",
    "plt.tight_layout()\n",
    "plt.savefig(\"AUD.png\")"
   ]
  },
  {
   "cell_type": "code",
   "execution_count": 22,
   "id": "14df9bc4",
   "metadata": {},
   "outputs": [
    {
     "ename": "NameError",
     "evalue": "name 'hao1' is not defined",
     "output_type": "error",
     "traceback": [
      "\u001b[1;31m---------------------------------------------------------------------------\u001b[0m",
      "\u001b[1;31mNameError\u001b[0m                                 Traceback (most recent call last)",
      "\u001b[1;32m<ipython-input-22-b9cb365d4aca>\u001b[0m in \u001b[0;36m<module>\u001b[1;34m\u001b[0m\n\u001b[1;32m----> 1\u001b[1;33m \u001b[0mplt\u001b[0m\u001b[1;33m.\u001b[0m\u001b[0mplot\u001b[0m\u001b[1;33m(\u001b[0m\u001b[0maa\u001b[0m\u001b[1;33m[\u001b[0m\u001b[1;33m:\u001b[0m\u001b[1;33m-\u001b[0m\u001b[1;36m1\u001b[0m\u001b[1;33m]\u001b[0m\u001b[1;33m,\u001b[0m \u001b[0mhao1\u001b[0m\u001b[1;33m,\u001b[0m \u001b[0mcolor\u001b[0m\u001b[1;33m=\u001b[0m\u001b[1;34m\"teal\"\u001b[0m\u001b[1;33m)\u001b[0m\u001b[1;33m\u001b[0m\u001b[1;33m\u001b[0m\u001b[0m\n\u001b[0m\u001b[0;32m      2\u001b[0m \u001b[0mplt\u001b[0m\u001b[1;33m.\u001b[0m\u001b[0mxlabel\u001b[0m\u001b[1;33m(\u001b[0m\u001b[1;34m\"Data\"\u001b[0m\u001b[1;33m)\u001b[0m\u001b[1;33m\u001b[0m\u001b[1;33m\u001b[0m\u001b[0m\n\u001b[0;32m      3\u001b[0m \u001b[0mplt\u001b[0m\u001b[1;33m.\u001b[0m\u001b[0mylabel\u001b[0m\u001b[1;33m(\u001b[0m\u001b[1;34m\"Zmiany USD/JPY [%]\"\u001b[0m\u001b[1;33m)\u001b[0m\u001b[1;33m\u001b[0m\u001b[1;33m\u001b[0m\u001b[0m\n\u001b[0;32m      4\u001b[0m \u001b[0mplt\u001b[0m\u001b[1;33m.\u001b[0m\u001b[0mtight_layout\u001b[0m\u001b[1;33m(\u001b[0m\u001b[1;33m)\u001b[0m\u001b[1;33m\u001b[0m\u001b[1;33m\u001b[0m\u001b[0m\n\u001b[0;32m      5\u001b[0m \u001b[0mplt\u001b[0m\u001b[1;33m.\u001b[0m\u001b[0msavefig\u001b[0m\u001b[1;33m(\u001b[0m\u001b[1;34m\"JPY.png\"\u001b[0m\u001b[1;33m)\u001b[0m\u001b[1;33m\u001b[0m\u001b[1;33m\u001b[0m\u001b[0m\n",
      "\u001b[1;31mNameError\u001b[0m: name 'hao1' is not defined"
     ]
    }
   ],
   "source": [
    "plt.plot(aa[:-1], hao1, color=\"teal\")\n",
    "plt.xlabel(\"Data\")\n",
    "plt.ylabel(\"Zmiany USD/JPY [%]\")\n",
    "plt.tight_layout()\n",
    "plt.savefig(\"JPY.png\")"
   ]
  },
  {
   "cell_type": "code",
   "execution_count": 23,
   "id": "5d72e18b",
   "metadata": {},
   "outputs": [
    {
     "name": "stdout",
     "output_type": "stream",
     "text": [
      "(-36.15456750485206, 0.0, 0, 1303, {'1%': -3.435378572037035, '5%': -2.863760700696655, '10%': -2.56795231450063}, 1934.2341230645784)\n",
      "(-35.26854788195442, 0.0, 0, 1303, {'1%': -3.435378572037035, '5%': -2.863760700696655, '10%': -2.56795231450063}, 2576.5732525170934)\n"
     ]
    },
    {
     "data": {
      "image/png": "[encoded data removed]",
      "text/plain": [
       "<Figure size 432x288 with 1 Axes>"
      ]
     },
     "metadata": {},
     "output_type": "display_data"
    },
    {
     "data": {
      "text/plain": [
       "[<matplotlib.lines.Line2D at 0x15525210160>]"
      ]
     },
     "execution_count": 23,
     "metadata": {},
     "output_type": "execute_result"
    },
    {
     "data": {
      "image/png": "[encoded data removed]",
      "text/plain": [
       "<Figure size 432x288 with 1 Axes>"
      ]
     },
     "metadata": {},
     "output_type": "display_data"
    }
   ],
   "source": [
    "hao1 = np.diff(hao)/hao[:-1]*100\n",
    "mate1 = np.diff(mate)/mate[:-1]*100\n",
    "print(adfuller(hao1))\n",
    "print(adfuller(mate1))\n",
    "plt.plot(mate1)\n",
    "plt.show()\n",
    "plt.plot(hao1)"
   ]
  },
  {
   "cell_type": "code",
   "execution_count": 24,
   "id": "07678ae8",
   "metadata": {},
   "outputs": [
    {
     "name": "stdout",
     "output_type": "stream",
     "text": [
      "0.261749320545567\n",
      "0.4327868557891534\n"
     ]
    }
   ],
   "source": [
    "print(np.var(hao1))\n",
    "print(np.var(mate1))"
   ]
  },
  {
   "cell_type": "code",
   "execution_count": 25,
   "id": "8053a4b0",
   "metadata": {},
   "outputs": [],
   "source": [
    "#d = pd.Series(hao1).pct_change()\n",
    "#plt.plot(d)"
   ]
  },
  {
   "cell_type": "code",
   "execution_count": 26,
   "id": "3c87a113",
   "metadata": {},
   "outputs": [
    {
     "data": {
      "text/plain": [
       "0.24982997174721563"
      ]
     },
     "execution_count": 26,
     "metadata": {},
     "output_type": "execute_result"
    }
   ],
   "source": [
    "from scipy import stats\n",
    "stats.median_abs_deviation(hao1)"
   ]
  },
  {
   "cell_type": "markdown",
   "id": "bce52136",
   "metadata": {},
   "source": [
    "------------- \n",
    "## Rozkład hao1"
   ]
  },
  {
   "cell_type": "code",
   "execution_count": 27,
   "id": "6d7b52eb",
   "metadata": {},
   "outputs": [
    {
     "name": "stdout",
     "output_type": "stream",
     "text": [
      "0.017683698574565847\n",
      "0.261749320545567\n"
     ]
    }
   ],
   "source": [
    "print(np.mean(hao1))\n",
    "print(np.var(hao1))"
   ]
  },
  {
   "cell_type": "code",
   "execution_count": 28,
   "id": "0af38346",
   "metadata": {},
   "outputs": [],
   "source": [
    "from scipy.stats import logistic\n",
    "m = np.mean(hao1)\n",
    "s = np.std(hao1)/np.pi*np.sqrt(3)\n",
    "\n",
    "from scipy.stats import t\n",
    "from scipy.stats import hypsecant\n",
    "from scipy.stats import laplace"
   ]
  },
  {
   "cell_type": "code",
   "execution_count": 29,
   "id": "050e3f3f",
   "metadata": {},
   "outputs": [
    {
     "data": {
      "image/png": "[encoded data removed]",
      "text/plain": [
       "<Figure size 720x576 with 1 Axes>"
      ]
     },
     "metadata": {},
     "output_type": "display_data"
    }
   ],
   "source": [
    "plt.figure(figsize=(10,8))\n",
    "\n",
    "plt.hist(hao1, bins=90, density = True, label=\"emp\")\n",
    "xs = np.arange(-4,4,0.01)\n",
    "y = [logistic.pdf(x, loc=m, scale = s) for x in xs]\n",
    "y2 = [norm.pdf(x, loc=np.mean(hao1), scale = np.std(hao1)) for x in xs]\n",
    "y3 = [laplace.pdf(x, loc=np.mean(hao1), scale = np.var(hao1)) for x in xs]\n",
    "plt.plot(xs,y, label=\"logis\")\n",
    "plt.plot(xs,y2, label=\"norm\")\n",
    "plt.plot(xs,y3, label=\"lap\")\n",
    "plt.legend()\n",
    "plt.show()"
   ]
  },
  {
   "cell_type": "code",
   "execution_count": 30,
   "id": "31b5057f",
   "metadata": {},
   "outputs": [
    {
     "name": "stdout",
     "output_type": "stream",
     "text": [
      "Anderson statistic: 1.0126347381828964\n",
      "\n",
      "Critical value table\n",
      "  Significance  Critical value\n",
      "       0.5000        0.394629\n",
      "       0.7500        0.566364\n",
      "       0.8000        0.621810\n",
      "       0.8500        0.693523\n",
      "       0.9000        0.798185\n",
      "       0.9500        0.981762\n",
      "       0.9750        1.179514\n",
      "       0.9900        1.443974\n",
      "       0.9950        1.652188\n",
      "       0.9975        1.856055\n",
      "       0.9990        2.140957\n"
     ]
    },
    {
     "data": {
      "image/png": "[encoded data removed]",
      "text/plain": [
       "<Figure size 432x288 with 1 Axes>"
      ]
     },
     "metadata": {},
     "output_type": "display_data"
    },
    {
     "data": {
      "text/plain": [
       "1.0126347381828964"
      ]
     },
     "execution_count": 30,
     "metadata": {},
     "output_type": "execute_result"
    }
   ],
   "source": [
    "import numpy as np\n",
    "import matplotlib.pyplot as plt\n",
    "import scipy.stats as sst\n",
    "import json\n",
    "import pandas as pd\n",
    "\n",
    "\"\"\"\n",
    "This Anderson-Darling test for Laplacian distribution assumes that \n",
    "we do not know the location and scale parameters of the original distribution.\n",
    "Null hypothesis: The sample data is drawn from a Laplacian distribution.\n",
    "If result Anderson Statistic is larger than the critical value, \n",
    "the null hypothesis is rejected at the corresponding significance level.\n",
    "Source for critical values:\n",
    "https://www.tandfonline.com/doi/pdf/10.1081/SAC-9687287\n",
    "Example code is at the bottom. Simply run the whole file to run example code\n",
    "\"\"\"\n",
    "\n",
    "def laplace_ad_test(data):\n",
    "    data = np.array(data)\n",
    "    loc = np.median(data)\n",
    "    n = data.shape[0]\n",
    "    scale = np.sum(np.abs(data-loc))/n\n",
    "\n",
    "    z_i = np.zeros_like(data)\n",
    "\n",
    "    for i, d in enumerate(data):\n",
    "        if d < loc:\n",
    "            z_i[i] = np.exp((d-loc)/scale)/2\n",
    "        else:\n",
    "            z_i[i] = 1 - np.exp((-d+loc)/scale)/2\n",
    "\n",
    "\n",
    "    rank = np.arange(1, n+1)\n",
    "    z_i = np.sort(z_i)\n",
    "    rev_z_i = np.flip(z_i)\n",
    "    s = (2*rank-1)/n\n",
    "    s *= (np.log(z_i)+np.log(1-rev_z_i))\n",
    "    s = np.sum(s)\n",
    "    A_sq = -n-s\n",
    "\n",
    "    print(\"Anderson statistic: {}\\n\".format(A_sq))\n",
    "    fetch_crit_value(n)\n",
    "\n",
    "    x = np.linspace(np.min(data), np.max(data), 1000)\n",
    "    pdf = np.exp(-abs(x-loc)/scale)/(2.*scale)\n",
    "    plt.plot(x, pdf, color='red', label='laplace')\n",
    "    plt.hist(data, bins=85, density=True)\n",
    "    plt.legend()\n",
    "    plt.show()\n",
    "\n",
    "    return A_sq\n",
    "\n",
    "\n",
    "def fetch_crit_value(n):\n",
    "    if n%2 == 1:\n",
    "        table = np.array([[0.5,     -0.928269,  0.2916],\n",
    "                          [0.75,    -0.569497,  0.2637],\n",
    "                          [0.8,     -0.477586,  0.2636],\n",
    "                          [0.85,    -0.367685,  0.2600],\n",
    "                          [0.9,     -0.227272,  0.2525],\n",
    "                          [0.95,    -0.017972,  0.2053],\n",
    "                          [0.975,   0.163424,   -0.0755],\n",
    "                          [0.990,   0.365898,   -0.2964],\n",
    "                          [0.995,   0.503329,   -0.6978],\n",
    "                          [0.9975,  0.623224,   -0.8344],\n",
    "                          [0.999,   0.760512,   -1.0847]])\n",
    "    else:\n",
    "        table = np.array([[0.5,     -0.932288,  3.2310],\n",
    "                          [0.75,    -0.571021,  3.2644],\n",
    "                          [0.8,     -0.477644,  3.2895],\n",
    "                          [0.85,    -0.368555,  3.3703],\n",
    "                          [0.9,     -0.228027,  3.4067],\n",
    "                          [0.95,    -0.018564,  0.2053],\n",
    "                          [0.975,   0.162622,   3.2346],\n",
    "                          [0.990,   0.365076,   3.0296],\n",
    "                          [0.995,   0.500015,   2.7197],\n",
    "                          [0.9975,  0.616555,   2.4751],\n",
    "                          [0.999,   0.759613,   2.1387]])\n",
    "\n",
    "    crit_val = {'Significance':[], 'Critical value':[]}\n",
    "    for row in table:\n",
    "        crit_val['Significance'].append(row[0])\n",
    "        crit_val['Critical value'].append(np.exp(row[1]+row[2]/n))\n",
    "\n",
    "    crit_val = pd.DataFrame.from_dict(crit_val)\n",
    "    print(\"Critical value table\\n\", crit_val.to_string(index=False))\n",
    "\n",
    "\n",
    "# Example run ###\n",
    "\n",
    "data = hao1\n",
    "laplace_ad_test(data)\n",
    "\n",
    "\n",
    "##If result Anderson Statistic is larger than the critical value, \n",
    "##the null hypothesis is rejected at the corresponding significance level.\n",
    "#################"
   ]
  },
  {
   "cell_type": "code",
   "execution_count": 31,
   "id": "5d94adaa",
   "metadata": {},
   "outputs": [
    {
     "data": {
      "text/plain": [
       "Ttest_1sampResult(statistic=0.0, pvalue=1.0)"
      ]
     },
     "execution_count": 31,
     "metadata": {},
     "output_type": "execute_result"
    }
   ],
   "source": [
    "stats.ttest_1samp(hao1, popmean=m)"
   ]
  },
  {
   "cell_type": "code",
   "execution_count": 32,
   "id": "00ff92c2",
   "metadata": {},
   "outputs": [
    {
     "data": {
      "image/png": "[encoded data removed]",
      "text/plain": [
       "<Figure size 432x288 with 1 Axes>"
      ]
     },
     "metadata": {},
     "output_type": "display_data"
    }
   ],
   "source": [
    "plt.hist(hao1, bins=100, density = True, label=\"emp\")\n",
    "xs = np.arange(-4,4,0.01)\n",
    "y = [norm.pdf(x, loc=np.mean(hao1), scale = np.var(hao1)) for x in xs]\n",
    "plt.plot(xs,y, label=\"teo\")\n",
    "plt.legend()\n",
    "plt.show()"
   ]
  },
  {
   "cell_type": "code",
   "execution_count": 33,
   "id": "69579404",
   "metadata": {},
   "outputs": [
    {
     "data": {
      "image/png": "[encoded data removed]",
      "text/plain": [
       "<Figure size 432x288 with 1 Axes>"
      ]
     },
     "metadata": {},
     "output_type": "display_data"
    }
   ],
   "source": [
    "m = np.mean(hao1)\n",
    "s = np.var(hao1)/np.pi*np.sqrt(3)\n",
    "\n",
    "x1,y1 = dcst.ecdf(hao1)\n",
    "plt.plot(x1,y1, label=\"emp\")\n",
    "xs = np.arange(-4,4,0.01)\n",
    "y = [logistic.cdf(x, loc=m, scale = s) for x in xs]\n",
    "y2 = [norm.cdf(x, loc=np.mean(hao1), scale = np.var(hao1)) for x in xs]\n",
    "plt.plot(xs,y, label=\"logis\")\n",
    "plt.plot(xs,y2, label=\"norm\")\n",
    "plt.legend()\n",
    "plt.show()"
   ]
  },
  {
   "cell_type": "markdown",
   "id": "f060ef4b",
   "metadata": {},
   "source": [
    "zmienna ryzyka, co jest zagrożeniem (spadek czy wzrost), liczymy parametry statystyczne i doprowadzamy do stacjoarnosci,\n",
    "procentowe zmiany"
   ]
  },
  {
   "cell_type": "markdown",
   "id": "64b3ad1f",
   "metadata": {},
   "source": [
    "---------------\n",
    "# PORTFEL"
   ]
  },
  {
   "cell_type": "code",
   "execution_count": null,
   "id": "d0e89172",
   "metadata": {},
   "outputs": [],
   "source": []
  },
  {
   "cell_type": "code",
   "execution_count": 42,
   "id": "7eea4663",
   "metadata": {},
   "outputs": [
    {
     "data": {
      "image/png": "[encoded data removed]",
      "text/plain": [
       "<Figure size 432x288 with 1 Axes>"
      ]
     },
     "metadata": {},
     "output_type": "display_data"
    },
    {
     "data": {
      "image/png": "[encoded data removed]",
      "text/plain": [
       "<Figure size 432x288 with 1 Axes>"
      ]
     },
     "metadata": {},
     "output_type": "display_data"
    }
   ],
   "source": [
    "plt.plot(aa, data, color=\"teal\")\n",
    "plt.xlabel(\"Data\")\n",
    "plt.ylabel(\"Portfel\")\n",
    "plt.tight_layout()\n",
    "plt.savefig(\"portfel.png\")\n",
    "plt.show()\n",
    "\n",
    "plt.plot(aa[:-1], data1, color=\"teal\")\n",
    "plt.xlabel(\"Data\")\n",
    "plt.ylabel(\"Zmiany portfela [%]\")\n",
    "plt.tight_layout()\n",
    "plt.savefig(\"pportfel.png\")"
   ]
  },
  {
   "cell_type": "markdown",
   "id": "90c00402",
   "metadata": {},
   "source": [
    "### miary zmiennosci\n"
   ]
  },
  {
   "cell_type": "code",
   "execution_count": 43,
   "id": "0c365563",
   "metadata": {},
   "outputs": [],
   "source": [
    "import statistics"
   ]
  },
  {
   "cell_type": "code",
   "execution_count": 44,
   "id": "6c2cc49f",
   "metadata": {},
   "outputs": [],
   "source": [
    "def covariance(x, y):\n",
    "    # Finding the mean of the series x and y\n",
    "    mean_x = sum(x)/float(len(x))\n",
    "    mean_y = sum(y)/float(len(y))\n",
    "    # Subtracting mean from the individual elements\n",
    "    sub_x = [i - mean_x for i in x]\n",
    "    sub_y = [i - mean_y for i in y]\n",
    "    numerator = sum([sub_x[i]*sub_y[i] for i in range(len(sub_x))])\n",
    "    denominator = len(x)-1\n",
    "    cov = numerator/denominator\n",
    "    return cov"
   ]
  },
  {
   "cell_type": "code",
   "execution_count": 45,
   "id": "2ae978d7",
   "metadata": {},
   "outputs": [
    {
     "data": {
      "text/plain": [
       "0.4578745472582482"
      ]
     },
     "execution_count": 45,
     "metadata": {},
     "output_type": "execute_result"
    }
   ],
   "source": [
    "### ODCHYLENIE STANDARDOWE\n",
    "COV = covariance(hao1, mate1)\n",
    "w1 = 0.71\n",
    "w2=0.29\n",
    "s = np.sqrt(np.var(hao1)*w1**2 + np.var(mate1)*w2**2 + 2*w1*w2*COV)\n",
    "s"
   ]
  },
  {
   "cell_type": "code",
   "execution_count": 46,
   "id": "144a4e75",
   "metadata": {},
   "outputs": [],
   "source": [
    "def v(data):\n",
    "    return sum([(x-np.mean(data))**2 for x in data])/(len(data)-1)"
   ]
  },
  {
   "cell_type": "code",
   "execution_count": 47,
   "id": "49accc4b",
   "metadata": {},
   "outputs": [
    {
     "data": {
      "text/plain": [
       "0.4580156102039098"
      ]
     },
     "execution_count": 47,
     "metadata": {},
     "output_type": "execute_result"
    }
   ],
   "source": [
    "np.sqrt(v(hao1)*w1**2 + v(mate1)*w2**2 + 2*w1*w2*COV)"
   ]
  },
  {
   "cell_type": "code",
   "execution_count": 48,
   "id": "1786b3c6",
   "metadata": {},
   "outputs": [
    {
     "data": {
      "text/plain": [
       "0.4580156102039098"
      ]
     },
     "execution_count": 48,
     "metadata": {},
     "output_type": "execute_result"
    }
   ],
   "source": [
    "statistics.stdev(data1)"
   ]
  },
  {
   "cell_type": "code",
   "execution_count": 49,
   "id": "fa8c9c12",
   "metadata": {},
   "outputs": [
    {
     "data": {
      "text/plain": [
       "0.4580156102039098"
      ]
     },
     "execution_count": 49,
     "metadata": {},
     "output_type": "execute_result"
    }
   ],
   "source": [
    "np.std(data1, ddof=1) ##z poprawka"
   ]
  },
  {
   "cell_type": "code",
   "execution_count": 50,
   "id": "476c6503",
   "metadata": {},
   "outputs": [
    {
     "name": "stdout",
     "output_type": "stream",
     "text": [
      "0.45783995703917413\n",
      "0.45783995703917413\n"
     ]
    }
   ],
   "source": [
    "print(np.std(data1, ddof=0)) ##bez poprawki\n",
    "print(np.std(data1)) ##bez poprawki\n"
   ]
  },
  {
   "cell_type": "code",
   "execution_count": 51,
   "id": "b5ebd044",
   "metadata": {},
   "outputs": [],
   "source": [
    "def miary_zmiennosci(x):\n",
    "    xx= pd.DataFrame(x)\n",
    "    #odchylenie standardowe\n",
    "    stdev = statistics.stdev(x)\n",
    "    \n",
    "    #odchylenie przeciętne\n",
    "    odch_przec = xx.mad().Close\n",
    "    \n",
    "    #odchylenie ćwiartkowe\n",
    "    Q = np.quantile(x, [0.25, 0.75])\n",
    "    odch_ćw = (Q[1] - Q[0]) / 2\n",
    "    \n",
    "    #semiodchylenie std\n",
    "    semi_std = np.sqrt(np.sum(x[x -np.mean(x)>0] ** 2) / (len(x)-1) )\n",
    "    \n",
    "    #semiodchylenie przeciętne\n",
    "    data = x[x -np.mean(x)>0]\n",
    "    semi_przec = np.sum(np.abs(x[x -np.mean(x)>0] - np.mean(x))) / (len(x)-1)\n",
    "    \n",
    "    data = [['Odchylenie standardowe', stdev], ['Odchylenie przeciętne', odch_przec], ['Odchylenie ćwiartkowe', odch_ćw],\n",
    "           ['Semiodchylenie standardowe', semi_std], ['Semiodchylenie przeciętne', semi_przec]] \n",
    "    df = pd.DataFrame(data, columns=['Miara zmienności', 'Wartość'])\n",
    "    \n",
    "    return df"
   ]
  },
  {
   "cell_type": "code",
   "execution_count": 52,
   "id": "31a14322",
   "metadata": {},
   "outputs": [],
   "source": [
    "def miary(x = hao1, y=mate1, w1=0.71, w2=0.29):\n",
    "    data = w1*x + w2*y\n",
    "    dat = pd.DataFrame(data)\n",
    "    \n",
    "    #odchylenie standardowe\n",
    "    stdev = statistics.stdev(data)\n",
    "    \n",
    "    #odchylenie przeciętne\n",
    "    odch_przec = dat.mad().Close\n",
    "    \n",
    "    #odchylenie ćwiartkowe\n",
    "    Q = np.quantile(data, [0.25, 0.75])\n",
    "    odch_ćw = (Q[1] - Q[0]) / 2\n",
    "    \n",
    "    #semiodchylenie std\n",
    "    d = data[data -np.mean(data)>0]\n",
    "    xx = x[data -np.mean(data)>0]\n",
    "    yy = y[data -np.mean(data)>0]\n",
    "    semi_std = np.sqrt(np.sum(d ** 2 + 2*covariance(xx,yy)) / (len(data)-1) )\n",
    "    \n",
    "    #semiodchylenie przeciętne    \n",
    "    semi_przec = np.sum(np.abs(d - np.mean(data))) / (len(data)-1)\n",
    "    \n",
    "    data = [['Odchylenie standardowe', stdev], ['Odchylenie przeciętne', odch_przec], ['Odchylenie ćwiartkowe', odch_ćw],\n",
    "           ['Semiodchylenie standardowe', semi_std], ['Semiodchylenie przeciętne', semi_przec]] \n",
    "    df = pd.DataFrame(data, columns=['Miara zmienności', 'Wartość'])\n",
    "    \n",
    "    return df"
   ]
  },
  {
   "cell_type": "code",
   "execution_count": null,
   "id": "fb592f91",
   "metadata": {},
   "outputs": [],
   "source": []
  },
  {
   "cell_type": "code",
   "execution_count": 53,
   "id": "76aac9ec",
   "metadata": {},
   "outputs": [],
   "source": [
    "data = 0.71*hao + 0.29*mate\n",
    "data1 = 0.71*hao1 + 0.29*mate1"
   ]
  },
  {
   "cell_type": "code",
   "execution_count": 54,
   "id": "ad9340be",
   "metadata": {},
   "outputs": [
    {
     "data": {
      "text/html": [
       "<div>\n",
       "<style scoped>\n",
       "    .dataframe tbody tr th:only-of-type {\n",
       "        vertical-align: middle;\n",
       "    }\n",
       "\n",
       "    .dataframe tbody tr th {\n",
       "        vertical-align: top;\n",
       "    }\n",
       "\n",
       "    .dataframe thead th {\n",
       "        text-align: right;\n",
       "    }\n",
       "</style>\n",
       "<table border=\"1\" class=\"dataframe\">\n",
       "  <thead>\n",
       "    <tr style=\"text-align: right;\">\n",
       "      <th></th>\n",
       "      <th>Miara zmienności</th>\n",
       "      <th>Wartość</th>\n",
       "    </tr>\n",
       "  </thead>\n",
       "  <tbody>\n",
       "    <tr>\n",
       "      <th>0</th>\n",
       "      <td>Odchylenie standardowe</td>\n",
       "      <td>0.658118</td>\n",
       "    </tr>\n",
       "    <tr>\n",
       "      <th>1</th>\n",
       "      <td>Odchylenie przeciętne</td>\n",
       "      <td>0.491863</td>\n",
       "    </tr>\n",
       "    <tr>\n",
       "      <th>2</th>\n",
       "      <td>Odchylenie ćwiartkowe</td>\n",
       "      <td>0.374558</td>\n",
       "    </tr>\n",
       "    <tr>\n",
       "      <th>3</th>\n",
       "      <td>Semiodchylenie standardowe</td>\n",
       "      <td>0.476425</td>\n",
       "    </tr>\n",
       "    <tr>\n",
       "      <th>4</th>\n",
       "      <td>Semiodchylenie przeciętne</td>\n",
       "      <td>0.246120</td>\n",
       "    </tr>\n",
       "  </tbody>\n",
       "</table>\n",
       "</div>"
      ],
      "text/plain": [
       "             Miara zmienności   Wartość\n",
       "0      Odchylenie standardowe  0.658118\n",
       "1       Odchylenie przeciętne  0.491863\n",
       "2       Odchylenie ćwiartkowe  0.374558\n",
       "3  Semiodchylenie standardowe  0.476425\n",
       "4   Semiodchylenie przeciętne  0.246120"
      ]
     },
     "execution_count": 54,
     "metadata": {},
     "output_type": "execute_result"
    }
   ],
   "source": [
    "miary_zmiennosci(mate1)"
   ]
  },
  {
   "cell_type": "code",
   "execution_count": 55,
   "id": "8b24edbe",
   "metadata": {},
   "outputs": [
    {
     "data": {
      "text/html": [
       "<div>\n",
       "<style scoped>\n",
       "    .dataframe tbody tr th:only-of-type {\n",
       "        vertical-align: middle;\n",
       "    }\n",
       "\n",
       "    .dataframe tbody tr th {\n",
       "        vertical-align: top;\n",
       "    }\n",
       "\n",
       "    .dataframe thead th {\n",
       "        text-align: right;\n",
       "    }\n",
       "</style>\n",
       "<table border=\"1\" class=\"dataframe\">\n",
       "  <thead>\n",
       "    <tr style=\"text-align: right;\">\n",
       "      <th></th>\n",
       "      <th>Miara zmienności</th>\n",
       "      <th>Wartość</th>\n",
       "    </tr>\n",
       "  </thead>\n",
       "  <tbody>\n",
       "    <tr>\n",
       "      <th>0</th>\n",
       "      <td>Odchylenie standardowe</td>\n",
       "      <td>0.511811</td>\n",
       "    </tr>\n",
       "    <tr>\n",
       "      <th>1</th>\n",
       "      <td>Odchylenie przeciętne</td>\n",
       "      <td>0.354812</td>\n",
       "    </tr>\n",
       "    <tr>\n",
       "      <th>2</th>\n",
       "      <td>Odchylenie ćwiartkowe</td>\n",
       "      <td>0.248483</td>\n",
       "    </tr>\n",
       "    <tr>\n",
       "      <th>3</th>\n",
       "      <td>Semiodchylenie standardowe</td>\n",
       "      <td>0.360147</td>\n",
       "    </tr>\n",
       "    <tr>\n",
       "      <th>4</th>\n",
       "      <td>Semiodchylenie przeciętne</td>\n",
       "      <td>0.177542</td>\n",
       "    </tr>\n",
       "  </tbody>\n",
       "</table>\n",
       "</div>"
      ],
      "text/plain": [
       "             Miara zmienności   Wartość\n",
       "0      Odchylenie standardowe  0.511811\n",
       "1       Odchylenie przeciętne  0.354812\n",
       "2       Odchylenie ćwiartkowe  0.248483\n",
       "3  Semiodchylenie standardowe  0.360147\n",
       "4   Semiodchylenie przeciętne  0.177542"
      ]
     },
     "execution_count": 55,
     "metadata": {},
     "output_type": "execute_result"
    }
   ],
   "source": [
    "miary_zmiennosci(hao1)"
   ]
  },
  {
   "cell_type": "code",
   "execution_count": 56,
   "id": "9329f676",
   "metadata": {},
   "outputs": [
    {
     "data": {
      "text/html": [
       "<div>\n",
       "<style scoped>\n",
       "    .dataframe tbody tr th:only-of-type {\n",
       "        vertical-align: middle;\n",
       "    }\n",
       "\n",
       "    .dataframe tbody tr th {\n",
       "        vertical-align: top;\n",
       "    }\n",
       "\n",
       "    .dataframe thead th {\n",
       "        text-align: right;\n",
       "    }\n",
       "</style>\n",
       "<table border=\"1\" class=\"dataframe\">\n",
       "  <thead>\n",
       "    <tr style=\"text-align: right;\">\n",
       "      <th></th>\n",
       "      <th>Miara zmienności</th>\n",
       "      <th>Wartość</th>\n",
       "    </tr>\n",
       "  </thead>\n",
       "  <tbody>\n",
       "    <tr>\n",
       "      <th>0</th>\n",
       "      <td>Odchylenie standardowe</td>\n",
       "      <td>0.458016</td>\n",
       "    </tr>\n",
       "    <tr>\n",
       "      <th>1</th>\n",
       "      <td>Odchylenie przeciętne</td>\n",
       "      <td>0.319665</td>\n",
       "    </tr>\n",
       "    <tr>\n",
       "      <th>2</th>\n",
       "      <td>Odchylenie ćwiartkowe</td>\n",
       "      <td>0.231842</td>\n",
       "    </tr>\n",
       "    <tr>\n",
       "      <th>3</th>\n",
       "      <td>Semiodchylenie standardowe</td>\n",
       "      <td>0.328563</td>\n",
       "    </tr>\n",
       "    <tr>\n",
       "      <th>4</th>\n",
       "      <td>Semiodchylenie przeciętne</td>\n",
       "      <td>0.159955</td>\n",
       "    </tr>\n",
       "  </tbody>\n",
       "</table>\n",
       "</div>"
      ],
      "text/plain": [
       "             Miara zmienności   Wartość\n",
       "0      Odchylenie standardowe  0.458016\n",
       "1       Odchylenie przeciętne  0.319665\n",
       "2       Odchylenie ćwiartkowe  0.231842\n",
       "3  Semiodchylenie standardowe  0.328563\n",
       "4   Semiodchylenie przeciętne  0.159955"
      ]
     },
     "execution_count": 56,
     "metadata": {},
     "output_type": "execute_result"
    }
   ],
   "source": [
    "miary_zmiennosci(data1)"
   ]
  },
  {
   "cell_type": "code",
   "execution_count": 57,
   "id": "377197df",
   "metadata": {},
   "outputs": [
    {
     "data": {
      "text/html": [
       "<div>\n",
       "<style scoped>\n",
       "    .dataframe tbody tr th:only-of-type {\n",
       "        vertical-align: middle;\n",
       "    }\n",
       "\n",
       "    .dataframe tbody tr th {\n",
       "        vertical-align: top;\n",
       "    }\n",
       "\n",
       "    .dataframe thead th {\n",
       "        text-align: right;\n",
       "    }\n",
       "</style>\n",
       "<table border=\"1\" class=\"dataframe\">\n",
       "  <thead>\n",
       "    <tr style=\"text-align: right;\">\n",
       "      <th></th>\n",
       "      <th>Miara zmienności</th>\n",
       "      <th>Wartość</th>\n",
       "    </tr>\n",
       "  </thead>\n",
       "  <tbody>\n",
       "    <tr>\n",
       "      <th>0</th>\n",
       "      <td>Odchylenie standardowe</td>\n",
       "      <td>0.458016</td>\n",
       "    </tr>\n",
       "    <tr>\n",
       "      <th>1</th>\n",
       "      <td>Odchylenie przeciętne</td>\n",
       "      <td>0.319665</td>\n",
       "    </tr>\n",
       "    <tr>\n",
       "      <th>2</th>\n",
       "      <td>Odchylenie ćwiartkowe</td>\n",
       "      <td>0.231842</td>\n",
       "    </tr>\n",
       "    <tr>\n",
       "      <th>3</th>\n",
       "      <td>Semiodchylenie standardowe</td>\n",
       "      <td>0.334682</td>\n",
       "    </tr>\n",
       "    <tr>\n",
       "      <th>4</th>\n",
       "      <td>Semiodchylenie przeciętne</td>\n",
       "      <td>0.159955</td>\n",
       "    </tr>\n",
       "  </tbody>\n",
       "</table>\n",
       "</div>"
      ],
      "text/plain": [
       "             Miara zmienności   Wartość\n",
       "0      Odchylenie standardowe  0.458016\n",
       "1       Odchylenie przeciętne  0.319665\n",
       "2       Odchylenie ćwiartkowe  0.231842\n",
       "3  Semiodchylenie standardowe  0.334682\n",
       "4   Semiodchylenie przeciętne  0.159955"
      ]
     },
     "execution_count": 57,
     "metadata": {},
     "output_type": "execute_result"
    }
   ],
   "source": [
    "miary()"
   ]
  },
  {
   "cell_type": "code",
   "execution_count": null,
   "id": "4ced782a",
   "metadata": {},
   "outputs": [],
   "source": []
  },
  {
   "cell_type": "code",
   "execution_count": 58,
   "id": "673c5149",
   "metadata": {},
   "outputs": [
    {
     "data": {
      "text/plain": [
       "0.3548123321592887"
      ]
     },
     "execution_count": 58,
     "metadata": {},
     "output_type": "execute_result"
    }
   ],
   "source": [
    "h = pd.DataFrame(hao1)\n",
    "h.mad().Close"
   ]
  },
  {
   "cell_type": "code",
   "execution_count": 59,
   "id": "89361495",
   "metadata": {},
   "outputs": [
    {
     "data": {
      "text/plain": [
       "0.3548123321592887"
      ]
     },
     "execution_count": 59,
     "metadata": {},
     "output_type": "execute_result"
    }
   ],
   "source": [
    "np.mean(abs((hao1) - np.mean(hao1)))\n"
   ]
  },
  {
   "cell_type": "code",
   "execution_count": 60,
   "id": "05a77c83",
   "metadata": {},
   "outputs": [
    {
     "data": {
      "text/plain": [
       "0.24982997174721563"
      ]
     },
     "execution_count": 60,
     "metadata": {},
     "output_type": "execute_result"
    }
   ],
   "source": [
    "from statistics import median\n",
    "median(abs((hao1) - median(hao1)))"
   ]
  },
  {
   "cell_type": "code",
   "execution_count": 63,
   "id": "5e680067",
   "metadata": {},
   "outputs": [
    {
     "data": {
      "text/plain": [
       "0.24982997174721563"
      ]
     },
     "execution_count": 63,
     "metadata": {},
     "output_type": "execute_result"
    }
   ],
   "source": [
    "from scipy.stats import median_abs_deviation\n",
    "median_abs_deviation(hao1)"
   ]
  },
  {
   "cell_type": "code",
   "execution_count": 64,
   "id": "2cae66cc",
   "metadata": {},
   "outputs": [
    {
     "name": "stdout",
     "output_type": "stream",
     "text": [
      "0.23353143111010388\n"
     ]
    }
   ],
   "source": [
    "from scipy.stats import median_abs_deviation\n",
    "\n",
    "numbers = data1\n",
    "\n",
    "median_absolute_deviation = median_abs_deviation(numbers)\n",
    "print(median_absolute_deviation)"
   ]
  },
  {
   "cell_type": "markdown",
   "id": "b06333f3",
   "metadata": {},
   "source": [
    "## kwantyle"
   ]
  },
  {
   "cell_type": "code",
   "execution_count": 65,
   "id": "f6be2547",
   "metadata": {},
   "outputs": [
    {
     "data": {
      "text/html": [
       "<div>\n",
       "<style scoped>\n",
       "    .dataframe tbody tr th:only-of-type {\n",
       "        vertical-align: middle;\n",
       "    }\n",
       "\n",
       "    .dataframe tbody tr th {\n",
       "        vertical-align: top;\n",
       "    }\n",
       "\n",
       "    .dataframe thead th {\n",
       "        text-align: right;\n",
       "    }\n",
       "</style>\n",
       "<table border=\"1\" class=\"dataframe\">\n",
       "  <thead>\n",
       "    <tr style=\"text-align: right;\">\n",
       "      <th></th>\n",
       "      <th>kwantyl</th>\n",
       "      <th>portfel</th>\n",
       "      <th>stacjonarny_portfel</th>\n",
       "    </tr>\n",
       "  </thead>\n",
       "  <tbody>\n",
       "    <tr>\n",
       "      <th>0</th>\n",
       "      <td>0.00</td>\n",
       "      <td>73.274803</td>\n",
       "      <td>-2.931229</td>\n",
       "    </tr>\n",
       "    <tr>\n",
       "      <th>1</th>\n",
       "      <td>0.05</td>\n",
       "      <td>74.654749</td>\n",
       "      <td>-0.664215</td>\n",
       "    </tr>\n",
       "    <tr>\n",
       "      <th>2</th>\n",
       "      <td>0.10</td>\n",
       "      <td>75.455346</td>\n",
       "      <td>-0.473853</td>\n",
       "    </tr>\n",
       "    <tr>\n",
       "      <th>3</th>\n",
       "      <td>0.15</td>\n",
       "      <td>76.220398</td>\n",
       "      <td>-0.369793</td>\n",
       "    </tr>\n",
       "    <tr>\n",
       "      <th>4</th>\n",
       "      <td>0.20</td>\n",
       "      <td>76.684243</td>\n",
       "      <td>-0.268526</td>\n",
       "    </tr>\n",
       "    <tr>\n",
       "      <th>5</th>\n",
       "      <td>0.25</td>\n",
       "      <td>77.116805</td>\n",
       "      <td>-0.210768</td>\n",
       "    </tr>\n",
       "    <tr>\n",
       "      <th>6</th>\n",
       "      <td>0.30</td>\n",
       "      <td>77.522624</td>\n",
       "      <td>-0.153834</td>\n",
       "    </tr>\n",
       "    <tr>\n",
       "      <th>7</th>\n",
       "      <td>0.35</td>\n",
       "      <td>77.775903</td>\n",
       "      <td>-0.102101</td>\n",
       "    </tr>\n",
       "    <tr>\n",
       "      <th>8</th>\n",
       "      <td>0.40</td>\n",
       "      <td>78.089091</td>\n",
       "      <td>-0.063979</td>\n",
       "    </tr>\n",
       "    <tr>\n",
       "      <th>9</th>\n",
       "      <td>0.45</td>\n",
       "      <td>78.338746</td>\n",
       "      <td>-0.015184</td>\n",
       "    </tr>\n",
       "    <tr>\n",
       "      <th>10</th>\n",
       "      <td>0.50</td>\n",
       "      <td>78.615684</td>\n",
       "      <td>0.025758</td>\n",
       "    </tr>\n",
       "    <tr>\n",
       "      <th>11</th>\n",
       "      <td>0.55</td>\n",
       "      <td>78.946762</td>\n",
       "      <td>0.059202</td>\n",
       "    </tr>\n",
       "    <tr>\n",
       "      <th>12</th>\n",
       "      <td>0.60</td>\n",
       "      <td>79.382487</td>\n",
       "      <td>0.100183</td>\n",
       "    </tr>\n",
       "    <tr>\n",
       "      <th>13</th>\n",
       "      <td>0.65</td>\n",
       "      <td>79.991046</td>\n",
       "      <td>0.139348</td>\n",
       "    </tr>\n",
       "    <tr>\n",
       "      <th>14</th>\n",
       "      <td>0.70</td>\n",
       "      <td>80.993157</td>\n",
       "      <td>0.188599</td>\n",
       "    </tr>\n",
       "    <tr>\n",
       "      <th>15</th>\n",
       "      <td>0.75</td>\n",
       "      <td>81.747584</td>\n",
       "      <td>0.252915</td>\n",
       "    </tr>\n",
       "    <tr>\n",
       "      <th>16</th>\n",
       "      <td>0.80</td>\n",
       "      <td>87.879341</td>\n",
       "      <td>0.313434</td>\n",
       "    </tr>\n",
       "    <tr>\n",
       "      <th>17</th>\n",
       "      <td>0.85</td>\n",
       "      <td>93.391395</td>\n",
       "      <td>0.395565</td>\n",
       "    </tr>\n",
       "    <tr>\n",
       "      <th>18</th>\n",
       "      <td>0.90</td>\n",
       "      <td>96.228167</td>\n",
       "      <td>0.499733</td>\n",
       "    </tr>\n",
       "    <tr>\n",
       "      <th>19</th>\n",
       "      <td>0.95</td>\n",
       "      <td>98.906583</td>\n",
       "      <td>0.706990</td>\n",
       "    </tr>\n",
       "    <tr>\n",
       "      <th>20</th>\n",
       "      <td>1.00</td>\n",
       "      <td>107.087129</td>\n",
       "      <td>2.444295</td>\n",
       "    </tr>\n",
       "  </tbody>\n",
       "</table>\n",
       "</div>"
      ],
      "text/plain": [
       "    kwantyl     portfel  stacjonarny_portfel\n",
       "0      0.00   73.274803            -2.931229\n",
       "1      0.05   74.654749            -0.664215\n",
       "2      0.10   75.455346            -0.473853\n",
       "3      0.15   76.220398            -0.369793\n",
       "4      0.20   76.684243            -0.268526\n",
       "5      0.25   77.116805            -0.210768\n",
       "6      0.30   77.522624            -0.153834\n",
       "7      0.35   77.775903            -0.102101\n",
       "8      0.40   78.089091            -0.063979\n",
       "9      0.45   78.338746            -0.015184\n",
       "10     0.50   78.615684             0.025758\n",
       "11     0.55   78.946762             0.059202\n",
       "12     0.60   79.382487             0.100183\n",
       "13     0.65   79.991046             0.139348\n",
       "14     0.70   80.993157             0.188599\n",
       "15     0.75   81.747584             0.252915\n",
       "16     0.80   87.879341             0.313434\n",
       "17     0.85   93.391395             0.395565\n",
       "18     0.90   96.228167             0.499733\n",
       "19     0.95   98.906583             0.706990\n",
       "20     1.00  107.087129             2.444295"
      ]
     },
     "execution_count": 65,
     "metadata": {},
     "output_type": "execute_result"
    }
   ],
   "source": [
    "d = {\"kwantyl\" : np.arange(0,1.05,0.05), \"portfel\" : np.quantile(data, np.arange(0,1.05,0.05)), \"stacjonarny_portfel\": np.quantile(data1, np.arange(0,1.05,0.05))}\n",
    "qq = pd.DataFrame(data=d)\n",
    "qq"
   ]
  },
  {
   "cell_type": "markdown",
   "id": "7d8032cc",
   "metadata": {},
   "source": [
    "---\n",
    "## dystrybuanta"
   ]
  },
  {
   "cell_type": "markdown",
   "id": "68219145",
   "metadata": {},
   "source": [
    "lightseagreen\n",
    "teal\n",
    "darkcyan\n",
    "gold\n",
    "lightgreen"
   ]
  },
  {
   "cell_type": "code",
   "execution_count": 66,
   "id": "4794c6a7",
   "metadata": {},
   "outputs": [
    {
     "data": {
      "text/plain": [
       "0.3238659438644791"
      ]
     },
     "execution_count": 66,
     "metadata": {},
     "output_type": "execute_result"
    }
   ],
   "source": [
    "np.std(data1, ddof=1)/np.sqrt(2)"
   ]
  },
  {
   "cell_type": "code",
   "execution_count": 67,
   "id": "855c291a",
   "metadata": {},
   "outputs": [
    {
     "data": {
      "text/plain": [
       "0.016058069576311444"
      ]
     },
     "execution_count": 67,
     "metadata": {},
     "output_type": "execute_result"
    }
   ],
   "source": [
    "np.mean(data1)"
   ]
  },
  {
   "cell_type": "code",
   "execution_count": 68,
   "id": "90e63217",
   "metadata": {},
   "outputs": [
    {
     "data": {
      "image/png": "[encoded data removed]",
      "text/plain": [
       "<Figure size 432x288 with 1 Axes>"
      ]
     },
     "metadata": {},
     "output_type": "display_data"
    },
    {
     "data": {
      "image/png": "[encoded data removed]",
      "text/plain": [
       "<Figure size 432x288 with 1 Axes>"
      ]
     },
     "metadata": {},
     "output_type": "display_data"
    },
    {
     "data": {
      "image/png": "[encoded data removed]",
      "text/plain": [
       "<Figure size 432x288 with 1 Axes>"
      ]
     },
     "metadata": {},
     "output_type": "display_data"
    },
    {
     "data": {
      "image/png": "[encoded data removed]",
      "text/plain": [
       "<Figure size 432x288 with 1 Axes>"
      ]
     },
     "metadata": {},
     "output_type": "display_data"
    }
   ],
   "source": [
    "plt.hist(data, bins=90, density = True, color=\"teal\")\n",
    "plt.xlabel(\"x\")\n",
    "plt.ylabel(\"f(x)\")\n",
    "plt.tight_layout()\n",
    "plt.savefig(\"portfelhist.png\")\n",
    "plt.show()\n",
    "plt.hist(data1, bins=90, density = True, label=\"histogram\", color=\"teal\")\n",
    "xs = np.arange(-4,3,0.01)\n",
    "y = [laplace.pdf(x, loc=np.mean(data1), scale = np.std(data1, ddof=1)/np.sqrt(2)) for x in xs]\n",
    "plt.plot(xs,y, label=\"gęstość Laplace\", color=\"gold\")\n",
    "plt.legend()\n",
    "plt.xlabel(\"x\")\n",
    "plt.ylabel(\"f(x)\")\n",
    "plt.tight_layout()\n",
    "plt.savefig(\"portfelhist1.png\")\n",
    "plt.show()\n",
    "\n",
    "\n",
    "x1,y1 = dcst.ecdf(data)\n",
    "plt.plot(x1,y1, color=\"teal\")\n",
    "plt.xlabel(\"x\")\n",
    "plt.ylabel(\"F(x)\")\n",
    "plt.tight_layout()\n",
    "plt.savefig(\"portfeldystr.png\")\n",
    "plt.show()\n",
    "\n",
    "x1,y1 = dcst.ecdf(data1)\n",
    "y2 = [laplace.cdf(x, loc=np.mean(data1), scale = np.std(data1, ddof=1)/np.sqrt(2)) for x in xs]\n",
    "plt.plot(xs,y2, label=\"dystrybuanta Laplace\", color=\"gold\")\n",
    "plt.plot(x1,y1, label=\"dystrybuanta empiryczna\", color=\"teal\")\n",
    "plt.legend()\n",
    "plt.xlabel(\"x\")\n",
    "plt.ylabel(\"F(x)\")\n",
    "plt.tight_layout()\n",
    "plt.savefig(\"portfeldystr1.png\")"
   ]
  },
  {
   "cell_type": "markdown",
   "id": "e9e181de",
   "metadata": {},
   "source": [
    "### porównanie z 1."
   ]
  },
  {
   "cell_type": "code",
   "execution_count": 69,
   "id": "f938f550",
   "metadata": {},
   "outputs": [
    {
     "name": "stderr",
     "output_type": "stream",
     "text": [
      "<ipython-input-69-57bf74867b53>:3: DeprecationWarning: Please use `gaussian_kde` from the `scipy.stats` namespace, the `scipy.stats.kde` namespace is deprecated.\n",
      "  kernel = scipy.stats.kde.gaussian_kde(data1)\n",
      "<ipython-input-69-57bf74867b53>:6: DeprecationWarning: Please use `gaussian_kde` from the `scipy.stats` namespace, the `scipy.stats.kde` namespace is deprecated.\n",
      "  kernel = scipy.stats.kde.gaussian_kde(hao1)\n",
      "<ipython-input-69-57bf74867b53>:9: DeprecationWarning: Please use `gaussian_kde` from the `scipy.stats` namespace, the `scipy.stats.kde` namespace is deprecated.\n",
      "  kernel = scipy.stats.kde.gaussian_kde(mate1)\n"
     ]
    },
    {
     "data": {
      "image/png": "[encoded data removed]",
      "text/plain": [
       "<Figure size 432x288 with 1 Axes>"
      ]
     },
     "metadata": {},
     "output_type": "display_data"
    }
   ],
   "source": [
    "import scipy.stats\n",
    "x = np.arange(-3, 3, 0.01)\n",
    "kernel = scipy.stats.kde.gaussian_kde(data1)\n",
    "y = kernel.evaluate(x)\n",
    "plt.plot(x,y, label=\"portfel\", color=\"teal\")\n",
    "kernel = scipy.stats.kde.gaussian_kde(hao1)\n",
    "y = kernel.evaluate(x)\n",
    "plt.plot(x,y, label=\"USD/JPY\", color=\"gold\")\n",
    "kernel = scipy.stats.kde.gaussian_kde(mate1)\n",
    "y = kernel.evaluate(x)\n",
    "plt.plot(x,y, label=\"USD/AUD\", color=\"lightgreen\")\n",
    "plt.legend()\n",
    "plt.xlabel(\"x\")\n",
    "plt.ylabel(\"f(x)\")\n",
    "plt.tight_layout()\n",
    "plt.savefig(\"gestosci.png\")\n",
    "plt.show()"
   ]
  },
  {
   "cell_type": "code",
   "execution_count": 70,
   "id": "6b6eeebc",
   "metadata": {},
   "outputs": [
    {
     "data": {
      "image/png": "[encoded data removed]",
      "text/plain": [
       "<Figure size 432x288 with 1 Axes>"
      ]
     },
     "metadata": {},
     "output_type": "display_data"
    }
   ],
   "source": [
    "x1,y1 = dcst.ecdf(data1)\n",
    "x2,y2 = dcst.ecdf(hao1)\n",
    "x3,y3 = dcst.ecdf(mate1)\n",
    "plt.plot(x1,y1, label=\"portfel\", color=\"teal\")\n",
    "plt.plot(x2,y2, label=\"USD/JPY\", color=\"gold\")\n",
    "plt.plot(x3,y3, label=\"USD/AUD\", color=\"lightgreen\")\n",
    "plt.legend()\n",
    "plt.xlabel(\"x\")\n",
    "plt.ylabel(\"F(x)\")\n",
    "plt.tight_layout()\n",
    "plt.savefig(\"portfeljpy.png\")"
   ]
  },
  {
   "cell_type": "code",
   "execution_count": 71,
   "id": "0db16b81",
   "metadata": {},
   "outputs": [
    {
     "data": {
      "text/html": [
       "<div>\n",
       "<style scoped>\n",
       "    .dataframe tbody tr th:only-of-type {\n",
       "        vertical-align: middle;\n",
       "    }\n",
       "\n",
       "    .dataframe tbody tr th {\n",
       "        vertical-align: top;\n",
       "    }\n",
       "\n",
       "    .dataframe thead th {\n",
       "        text-align: right;\n",
       "    }\n",
       "</style>\n",
       "<table border=\"1\" class=\"dataframe\">\n",
       "  <thead>\n",
       "    <tr style=\"text-align: right;\">\n",
       "      <th></th>\n",
       "      <th>Kwantyle</th>\n",
       "      <th>USD/JPY</th>\n",
       "      <th>USD/AUD</th>\n",
       "      <th>Portfel</th>\n",
       "      <th>Min_wartość</th>\n",
       "      <th>Max_ryzyko</th>\n",
       "      <th>Min_ryzyko</th>\n",
       "    </tr>\n",
       "  </thead>\n",
       "  <tbody>\n",
       "    <tr>\n",
       "      <th>0</th>\n",
       "      <td>0.00</td>\n",
       "      <td>-3.724951</td>\n",
       "      <td>-2.812964</td>\n",
       "      <td>-2.931229</td>\n",
       "      <td>-3.724951</td>\n",
       "      <td>USD/JPY</td>\n",
       "      <td>USD/AUD</td>\n",
       "    </tr>\n",
       "    <tr>\n",
       "      <th>1</th>\n",
       "      <td>0.05</td>\n",
       "      <td>-0.780778</td>\n",
       "      <td>-1.009341</td>\n",
       "      <td>-0.664215</td>\n",
       "      <td>-1.009341</td>\n",
       "      <td>USD/AUD</td>\n",
       "      <td>Portfel</td>\n",
       "    </tr>\n",
       "    <tr>\n",
       "      <th>2</th>\n",
       "      <td>0.10</td>\n",
       "      <td>-0.506833</td>\n",
       "      <td>-0.729749</td>\n",
       "      <td>-0.473853</td>\n",
       "      <td>-0.729749</td>\n",
       "      <td>USD/AUD</td>\n",
       "      <td>Portfel</td>\n",
       "    </tr>\n",
       "    <tr>\n",
       "      <th>3</th>\n",
       "      <td>0.15</td>\n",
       "      <td>-0.393704</td>\n",
       "      <td>-0.584234</td>\n",
       "      <td>-0.369793</td>\n",
       "      <td>-0.584234</td>\n",
       "      <td>USD/AUD</td>\n",
       "      <td>Portfel</td>\n",
       "    </tr>\n",
       "    <tr>\n",
       "      <th>4</th>\n",
       "      <td>0.20</td>\n",
       "      <td>-0.303227</td>\n",
       "      <td>-0.460543</td>\n",
       "      <td>-0.268526</td>\n",
       "      <td>-0.460543</td>\n",
       "      <td>USD/AUD</td>\n",
       "      <td>Portfel</td>\n",
       "    </tr>\n",
       "    <tr>\n",
       "      <th>5</th>\n",
       "      <td>0.25</td>\n",
       "      <td>-0.207620</td>\n",
       "      <td>-0.361869</td>\n",
       "      <td>-0.210768</td>\n",
       "      <td>-0.361869</td>\n",
       "      <td>USD/AUD</td>\n",
       "      <td>USD/JPY</td>\n",
       "    </tr>\n",
       "    <tr>\n",
       "      <th>6</th>\n",
       "      <td>0.30</td>\n",
       "      <td>-0.163387</td>\n",
       "      <td>-0.282415</td>\n",
       "      <td>-0.153834</td>\n",
       "      <td>-0.282415</td>\n",
       "      <td>USD/AUD</td>\n",
       "      <td>Portfel</td>\n",
       "    </tr>\n",
       "    <tr>\n",
       "      <th>7</th>\n",
       "      <td>0.35</td>\n",
       "      <td>-0.120060</td>\n",
       "      <td>-0.227361</td>\n",
       "      <td>-0.102101</td>\n",
       "      <td>-0.227361</td>\n",
       "      <td>USD/AUD</td>\n",
       "      <td>Portfel</td>\n",
       "    </tr>\n",
       "    <tr>\n",
       "      <th>8</th>\n",
       "      <td>0.40</td>\n",
       "      <td>-0.063961</td>\n",
       "      <td>-0.145281</td>\n",
       "      <td>-0.063979</td>\n",
       "      <td>-0.145281</td>\n",
       "      <td>USD/AUD</td>\n",
       "      <td>USD/JPY</td>\n",
       "    </tr>\n",
       "    <tr>\n",
       "      <th>9</th>\n",
       "      <td>0.45</td>\n",
       "      <td>-0.016962</td>\n",
       "      <td>-0.061634</td>\n",
       "      <td>-0.015184</td>\n",
       "      <td>-0.061634</td>\n",
       "      <td>USD/AUD</td>\n",
       "      <td>Portfel</td>\n",
       "    </tr>\n",
       "    <tr>\n",
       "      <th>10</th>\n",
       "      <td>0.50</td>\n",
       "      <td>0.030038</td>\n",
       "      <td>0.007157</td>\n",
       "      <td>0.025758</td>\n",
       "      <td>0.007157</td>\n",
       "      <td>USD/AUD</td>\n",
       "      <td>USD/JPY</td>\n",
       "    </tr>\n",
       "    <tr>\n",
       "      <th>11</th>\n",
       "      <td>0.55</td>\n",
       "      <td>0.068632</td>\n",
       "      <td>0.078989</td>\n",
       "      <td>0.059202</td>\n",
       "      <td>0.059202</td>\n",
       "      <td>Portfel</td>\n",
       "      <td>USD/AUD</td>\n",
       "    </tr>\n",
       "    <tr>\n",
       "      <th>12</th>\n",
       "      <td>0.60</td>\n",
       "      <td>0.109337</td>\n",
       "      <td>0.133496</td>\n",
       "      <td>0.100183</td>\n",
       "      <td>0.100183</td>\n",
       "      <td>Portfel</td>\n",
       "      <td>USD/AUD</td>\n",
       "    </tr>\n",
       "    <tr>\n",
       "      <th>13</th>\n",
       "      <td>0.65</td>\n",
       "      <td>0.158468</td>\n",
       "      <td>0.196966</td>\n",
       "      <td>0.139348</td>\n",
       "      <td>0.139348</td>\n",
       "      <td>Portfel</td>\n",
       "      <td>USD/AUD</td>\n",
       "    </tr>\n",
       "    <tr>\n",
       "      <th>14</th>\n",
       "      <td>0.70</td>\n",
       "      <td>0.230501</td>\n",
       "      <td>0.288873</td>\n",
       "      <td>0.188599</td>\n",
       "      <td>0.188599</td>\n",
       "      <td>Portfel</td>\n",
       "      <td>USD/AUD</td>\n",
       "    </tr>\n",
       "    <tr>\n",
       "      <th>15</th>\n",
       "      <td>0.75</td>\n",
       "      <td>0.289346</td>\n",
       "      <td>0.387247</td>\n",
       "      <td>0.252915</td>\n",
       "      <td>0.252915</td>\n",
       "      <td>Portfel</td>\n",
       "      <td>USD/AUD</td>\n",
       "    </tr>\n",
       "    <tr>\n",
       "      <th>16</th>\n",
       "      <td>0.80</td>\n",
       "      <td>0.357976</td>\n",
       "      <td>0.492309</td>\n",
       "      <td>0.313434</td>\n",
       "      <td>0.313434</td>\n",
       "      <td>Portfel</td>\n",
       "      <td>USD/AUD</td>\n",
       "    </tr>\n",
       "    <tr>\n",
       "      <th>17</th>\n",
       "      <td>0.85</td>\n",
       "      <td>0.424954</td>\n",
       "      <td>0.645105</td>\n",
       "      <td>0.395565</td>\n",
       "      <td>0.395565</td>\n",
       "      <td>Portfel</td>\n",
       "      <td>USD/AUD</td>\n",
       "    </tr>\n",
       "    <tr>\n",
       "      <th>18</th>\n",
       "      <td>0.90</td>\n",
       "      <td>0.548403</td>\n",
       "      <td>0.798429</td>\n",
       "      <td>0.499733</td>\n",
       "      <td>0.499733</td>\n",
       "      <td>Portfel</td>\n",
       "      <td>USD/AUD</td>\n",
       "    </tr>\n",
       "    <tr>\n",
       "      <th>19</th>\n",
       "      <td>0.95</td>\n",
       "      <td>0.744780</td>\n",
       "      <td>1.103314</td>\n",
       "      <td>0.706990</td>\n",
       "      <td>0.706990</td>\n",
       "      <td>Portfel</td>\n",
       "      <td>USD/AUD</td>\n",
       "    </tr>\n",
       "    <tr>\n",
       "      <th>20</th>\n",
       "      <td>1.00</td>\n",
       "      <td>2.704872</td>\n",
       "      <td>3.271902</td>\n",
       "      <td>2.444295</td>\n",
       "      <td>2.444295</td>\n",
       "      <td>Portfel</td>\n",
       "      <td>USD/AUD</td>\n",
       "    </tr>\n",
       "  </tbody>\n",
       "</table>\n",
       "</div>"
      ],
      "text/plain": [
       "    Kwantyle   USD/JPY   USD/AUD   Portfel  Min_wartość Max_ryzyko Min_ryzyko\n",
       "0       0.00 -3.724951 -2.812964 -2.931229    -3.724951    USD/JPY    USD/AUD\n",
       "1       0.05 -0.780778 -1.009341 -0.664215    -1.009341    USD/AUD    Portfel\n",
       "2       0.10 -0.506833 -0.729749 -0.473853    -0.729749    USD/AUD    Portfel\n",
       "3       0.15 -0.393704 -0.584234 -0.369793    -0.584234    USD/AUD    Portfel\n",
       "4       0.20 -0.303227 -0.460543 -0.268526    -0.460543    USD/AUD    Portfel\n",
       "5       0.25 -0.207620 -0.361869 -0.210768    -0.361869    USD/AUD    USD/JPY\n",
       "6       0.30 -0.163387 -0.282415 -0.153834    -0.282415    USD/AUD    Portfel\n",
       "7       0.35 -0.120060 -0.227361 -0.102101    -0.227361    USD/AUD    Portfel\n",
       "8       0.40 -0.063961 -0.145281 -0.063979    -0.145281    USD/AUD    USD/JPY\n",
       "9       0.45 -0.016962 -0.061634 -0.015184    -0.061634    USD/AUD    Portfel\n",
       "10      0.50  0.030038  0.007157  0.025758     0.007157    USD/AUD    USD/JPY\n",
       "11      0.55  0.068632  0.078989  0.059202     0.059202    Portfel    USD/AUD\n",
       "12      0.60  0.109337  0.133496  0.100183     0.100183    Portfel    USD/AUD\n",
       "13      0.65  0.158468  0.196966  0.139348     0.139348    Portfel    USD/AUD\n",
       "14      0.70  0.230501  0.288873  0.188599     0.188599    Portfel    USD/AUD\n",
       "15      0.75  0.289346  0.387247  0.252915     0.252915    Portfel    USD/AUD\n",
       "16      0.80  0.357976  0.492309  0.313434     0.313434    Portfel    USD/AUD\n",
       "17      0.85  0.424954  0.645105  0.395565     0.395565    Portfel    USD/AUD\n",
       "18      0.90  0.548403  0.798429  0.499733     0.499733    Portfel    USD/AUD\n",
       "19      0.95  0.744780  1.103314  0.706990     0.706990    Portfel    USD/AUD\n",
       "20      1.00  2.704872  3.271902  2.444295     2.444295    Portfel    USD/AUD"
      ]
     },
     "execution_count": 71,
     "metadata": {},
     "output_type": "execute_result"
    }
   ],
   "source": [
    "d = {\"Kwantyle\" : np.arange(0,1.05,0.05), \"USD/JPY\" : np.quantile(hao1, np.arange(0,1.05,0.05)),\n",
    "     \"USD/AUD\" : np.quantile(mate1, np.arange(0,1.05,0.05)), \n",
    "     \"Portfel\": np.quantile(data1, np.arange(0,1.05,0.05))}\n",
    "qq = pd.DataFrame(data=d)\n",
    "c = [\"USD/JPY\",\"USD/AUD\",\"Portfel\"]\n",
    "qq['Min_wartość'] = qq[c].min(axis=1)\n",
    "qq['Max_ryzyko'] = qq[c].idxmin(axis=1)\n",
    "qq['Min_ryzyko'] = qq[c].idxmax(axis=1)\n",
    "qq"
   ]
  },
  {
   "cell_type": "code",
   "execution_count": 192,
   "id": "c1ef6b5b",
   "metadata": {},
   "outputs": [],
   "source": [
    "## aud - większe ryzyko dużych spadków, \n",
    "#ale AUD jest bardziej rozproszone i ma więcej średnio małych spadków - -2 a 0 %\n",
    "## jpy zanotował najwiekszy spadek\n",
    "##razem działają git i dystrybuanta ma najszybszy wzrost i najmniejsze ryzyko z nich"
   ]
  },
  {
   "cell_type": "markdown",
   "id": "509520a2",
   "metadata": {},
   "source": [
    "----------\n",
    "## dystrybuanta dwuwymiarowa"
   ]
  },
  {
   "cell_type": "code",
   "execution_count": 91,
   "id": "9ff9fb64",
   "metadata": {},
   "outputs": [
    {
     "data": {
      "image/png": "[encoded data removed]",
      "text/plain": [
       "<Figure size 864x288 with 2 Axes>"
      ]
     },
     "metadata": {},
     "output_type": "display_data"
    }
   ],
   "source": [
    "fig, (ax1, ax2) = plt.subplots(ncols=2, figsize=(12, 4))\n",
    "hist_vals, xbins, ybins, mesh = ax1.hist2d(hao1, mate1, bins=30, density=True)\n",
    "ax2.pcolormesh(xbins, ybins, hist_vals.cumsum(axis=0).cumsum(axis=1))\n",
    "plt.xlabel(\"USD/JPY\")\n",
    "plt.ylabel(\"USD/AUD\")\n",
    "plt.tight_layout()\n",
    "plt.savefig(\"dystr1.png\")\n",
    "plt.show() ##dystrybuanta\n",
    "plt.show()"
   ]
  },
  {
   "cell_type": "code",
   "execution_count": 97,
   "id": "35f287c0",
   "metadata": {},
   "outputs": [
    {
     "data": {
      "image/png": "[encoded data removed]",
      "text/plain": [
       "<Figure size 432x288 with 1 Axes>"
      ]
     },
     "metadata": {},
     "output_type": "display_data"
    },
    {
     "data": {
      "image/png": "[encoded data removed]",
      "text/plain": [
       "<Figure size 432x432 with 1 Axes>"
      ]
     },
     "metadata": {},
     "output_type": "display_data"
    }
   ],
   "source": [
    "#fig, (ax1, ax2) = plt.subplots(ncols=2, figsize=(12, 4))\n",
    "hist_vals, xbins, ybins, mesh = plt.hist2d(hao1, mate1, bins=40, density=True, cmap=plt.cm.viridis)\n",
    "plt.xlabel(\"USD/JPY\")\n",
    "plt.ylabel(\"USD/AUD\")\n",
    "plt.tight_layout()\n",
    "plt.savefig(\"hist1.png\")\n",
    "plt.show() ##dystrybuanta\n",
    "plt.figure(figsize=(6,6))\n",
    "plt.pcolormesh(xbins, ybins, hist_vals.cumsum(axis=0).cumsum(axis=1), cmap=plt.cm.viridis)\n",
    "plt.xlabel(\"USD/JPY\")\n",
    "plt.ylabel(\"USD/AUD\")\n",
    "plt.tight_layout()\n",
    "plt.savefig(\"dystr1.png\")\n",
    "plt.show() ##dystrybuanta\n",
    "plt.show()"
   ]
  },
  {
   "cell_type": "code",
   "execution_count": 76,
   "id": "ea8bc89f",
   "metadata": {},
   "outputs": [
    {
     "data": {
      "text/plain": [
       "array([[-3.72495141, -3.72495141, -3.72495141, ..., -3.72495141,\n",
       "        -3.72495141, -3.72495141],\n",
       "       [-3.70344699, -3.70344699, -3.70344699, ..., -3.70344699,\n",
       "        -3.70344699, -3.70344699],\n",
       "       [-3.68194256, -3.68194256, -3.68194256, ..., -3.68194256,\n",
       "        -3.68194256, -3.68194256],\n",
       "       ...,\n",
       "       [ 2.66186285,  2.66186285,  2.66186285, ...,  2.66186285,\n",
       "         2.66186285,  2.66186285],\n",
       "       [ 2.68336727,  2.68336727,  2.68336727, ...,  2.68336727,\n",
       "         2.68336727,  2.68336727],\n",
       "       [ 2.7048717 ,  2.7048717 ,  2.7048717 , ...,  2.7048717 ,\n",
       "         2.7048717 ,  2.7048717 ]])"
      ]
     },
     "execution_count": 76,
     "metadata": {},
     "output_type": "execute_result"
    }
   ],
   "source": [
    "xi"
   ]
  },
  {
   "cell_type": "code",
   "execution_count": 77,
   "id": "e6e688da",
   "metadata": {},
   "outputs": [
    {
     "data": {
      "text/plain": [
       "array([-3.72495141, -3.72495141, -3.72495141, ...,  2.7048717 ,\n",
       "        2.7048717 ,  2.7048717 ])"
      ]
     },
     "execution_count": 77,
     "metadata": {},
     "output_type": "execute_result"
    }
   ],
   "source": [
    "xi.flatten()"
   ]
  },
  {
   "cell_type": "code",
   "execution_count": 96,
   "id": "a33b491f",
   "metadata": {},
   "outputs": [
    {
     "name": "stderr",
     "output_type": "stream",
     "text": [
      "<ipython-input-96-05f090bac852>:11: DeprecationWarning: Please use `gaussian_kde` from the `scipy.stats` namespace, the `scipy.stats.kde` namespace is deprecated.\n",
      "  k = kde.gaussian_kde([x,y])\n"
     ]
    },
    {
     "data": {
      "image/png": "[encoded data removed]",
      "text/plain": [
       "<Figure size 432x288 with 1 Axes>"
      ]
     },
     "metadata": {},
     "output_type": "display_data"
    },
    {
     "data": {
      "image/png": "[encoded data removed]",
      "text/plain": [
       "<Figure size 432x432 with 1 Axes>"
      ]
     },
     "metadata": {},
     "output_type": "display_data"
    },
    {
     "data": {
      "image/png": "[encoded data removed]",
      "text/plain": [
       "<Figure size 432x432 with 1 Axes>"
      ]
     },
     "metadata": {},
     "output_type": "display_data"
    }
   ],
   "source": [
    "import matplotlib.pyplot as plt\n",
    "import numpy as np\n",
    "from scipy.stats import kde\n",
    " \n",
    "# create data\n",
    "x = hao1\n",
    "y = mate1\n",
    " \n",
    "# Evaluate a gaussian kde on a regular grid of nbins x nbins over data extents\n",
    "nbins=100\n",
    "k = kde.gaussian_kde([x,y])\n",
    "xi, yi = np.mgrid[x.min():x.max():nbins*1j, y.min():y.max():nbins*1j]\n",
    "zi = k(np.vstack([xi.flatten(), yi.flatten()]))\n",
    " \n",
    "# Make the plot - hist\n",
    "plt.pcolormesh(xi, yi, zi.reshape(xi.shape), shading='auto')\n",
    "plt.show()\n",
    "plt.figure(figsize=(6,6))\n",
    "z = zi.reshape(xi.shape) ##z pojedynczego arraya bierze kształt [[..],[..],..]\n",
    "plt.pcolormesh(xi, yi, z.cumsum(axis=0).cumsum(axis=1), shading='auto', cmap=plt.cm.viridis)\n",
    "plt.xlabel(\"USD/JPY\")\n",
    "plt.ylabel(\"USD/AUD\")\n",
    "plt.tight_layout()\n",
    "plt.savefig(\"dystr.png\")\n",
    "plt.show() ##dystrybuanta\n",
    " \n",
    "# Change color palette\n",
    "plt.figure(figsize=(6,6))\n",
    "plt.pcolormesh(xi, yi, zi.reshape(xi.shape), shading='auto', cmap=plt.cm.viridis)\n",
    "plt.xlabel(\"USD/JPY\")\n",
    "plt.ylabel(\"USD/AUD\")\n",
    "plt.tight_layout()\n",
    "plt.savefig(\"hist.png\")\n"
   ]
  },
  {
   "cell_type": "code",
   "execution_count": 88,
   "id": "84a0a0e4",
   "metadata": {},
   "outputs": [
    {
     "data": {
      "image/png": "[encoded data removed]",
      "text/plain": [
       "<Figure size 432x288 with 1 Axes>"
      ]
     },
     "metadata": {},
     "output_type": "display_data"
    }
   ],
   "source": [
    "zs = hist_vals.cumsum(axis=0).cumsum(axis=1)/hist_vals.cumsum(axis=0).cumsum(axis=1)[-1,-1]\n",
    "from matplotlib import cm\n",
    "from matplotlib.ticker import LinearLocator\n",
    "\n",
    "fig, ax = plt.subplots(subplot_kw={\"projection\": \"3d\"})\n",
    "surf = ax.plot_surface(xi, yi, zs, cmap=cm.viridis,\n",
    "                       linewidth=0, antialiased=False)\n",
    "plt.xlabel(\"USD/JPY\")\n",
    "plt.ylabel(\"USD/AUD\")\n",
    "plt.tight_layout()\n",
    "plt.savefig(\"3d.png\", transparent=True)"
   ]
  },
  {
   "cell_type": "code",
   "execution_count": 250,
   "id": "57f8780b",
   "metadata": {},
   "outputs": [
    {
     "data": {
      "image/png": "[encoded data removed]",
      "text/plain": [
       "<Figure size 432x288 with 1 Axes>"
      ]
     },
     "metadata": {},
     "output_type": "display_data"
    },
    {
     "data": {
      "image/png": "[encoded data removed]",
      "text/plain": [
       "<Figure size 432x288 with 1 Axes>"
      ]
     },
     "metadata": {},
     "output_type": "display_data"
    }
   ],
   "source": [
    "plt.pcolormesh(xi, yi, zi.reshape(xi.shape), shading='auto', cmap=plt.cm.viridis)\n",
    "plt.show()\n",
    "plt.pcolormesh(xi, yi, zi.reshape(xi.shape), shading='auto', cmap=plt.cm.cividis)\n",
    "plt.show()"
   ]
  },
  {
   "cell_type": "code",
   "execution_count": 224,
   "id": "22e3f82d",
   "metadata": {},
   "outputs": [
    {
     "data": {
      "image/png": "[encoded data removed]",
      "text/plain": [
       "<Figure size 432x288 with 1 Axes>"
      ]
     },
     "metadata": {
      "needs_background": "light"
     },
     "output_type": "display_data"
    }
   ],
   "source": [
    "zs = z.cumsum(axis=0).cumsum(axis=1)/z.cumsum(axis=0).cumsum(axis=1)[-1,-1]\n",
    "from matplotlib import cm\n",
    "from matplotlib.ticker import LinearLocator\n",
    "\n",
    "fig, ax = plt.subplots(subplot_kw={\"projection\": \"3d\"})\n",
    "surf = ax.plot_surface(xi, yi, zs, cmap=cm.cividis,\n",
    "                       linewidth=0, antialiased=False)"
   ]
  },
  {
   "cell_type": "code",
   "execution_count": 30,
   "id": "38c9a29f",
   "metadata": {},
   "outputs": [],
   "source": [
    "X = np.linspace(min(xbins), max(xbins), 30)\n",
    "Y = np.linspace(min(ybins), max(ybins), 30)\n",
    "X, Y = np.meshgrid(X, Y)\n",
    "Z = hist_vals.cumsum(axis=0).cumsum(axis=1)"
   ]
  },
  {
   "cell_type": "markdown",
   "id": "776e83fe",
   "metadata": {},
   "source": [
    "# ROZKŁADY GRANICZE"
   ]
  },
  {
   "cell_type": "code",
   "execution_count": 333,
   "id": "be727e22",
   "metadata": {},
   "outputs": [],
   "source": [
    "from scipy.stats import genextreme as gev\n",
    "from scipy.stats import kstest\n",
    "from statsmodels.distributions.empirical_distribution import ECDF"
   ]
  },
  {
   "cell_type": "code",
   "execution_count": 334,
   "id": "63d1caac",
   "metadata": {},
   "outputs": [
    {
     "data": {
      "image/png": "[encoded data removed]",
      "text/plain": [
       "<Figure size 432x288 with 1 Axes>"
      ]
     },
     "metadata": {},
     "output_type": "display_data"
    }
   ],
   "source": [
    "def find_minimum(data, interval_length):\n",
    "    n_intervals = int(np.floor(len(data)/interval_length))\n",
    "    minimum = [np.max(data[interval_length*i:interval_length*(i+1)]) for i in range(n_intervals)]\n",
    "    return(minimum)\n",
    "\n",
    "mins_hao_diff = find_minimum(-hao1, 5)\n",
    "plt.hist(mins_hao_diff, bins=30, color=\"teal\" )\n",
    "plt.xlabel(\"x\")\n",
    "plt.ylabel(\"Histogram\")\n",
    "plt.tight_layout()\n",
    "plt.savefig(\"maxjpyw.png\")"
   ]
  },
  {
   "cell_type": "code",
   "execution_count": 335,
   "id": "4f14740f",
   "metadata": {},
   "outputs": [
    {
     "data": {
      "text/plain": [
       "3.7249514115460847"
      ]
     },
     "execution_count": 335,
     "metadata": {},
     "output_type": "execute_result"
    }
   ],
   "source": [
    "\n",
    "\n",
    "max(mins_hao_diff)"
   ]
  },
  {
   "cell_type": "code",
   "execution_count": 336,
   "id": "f2ae688b",
   "metadata": {},
   "outputs": [],
   "source": [
    "M = mins_hao_diff"
   ]
  },
  {
   "cell_type": "code",
   "execution_count": 337,
   "id": "0cc15f51",
   "metadata": {},
   "outputs": [
    {
     "name": "stdout",
     "output_type": "stream",
     "text": [
      "0.04994952703357597\n",
      "0.5191088079292394\n"
     ]
    }
   ],
   "source": [
    "xi, mu, sigma = gev.fit(M)\n",
    "\n",
    "stat, pv = kstest(M, gev.cdf, args=(xi, mu, sigma))\n",
    "print(stat)\n",
    "print(pv)"
   ]
  },
  {
   "cell_type": "code",
   "execution_count": 338,
   "id": "af41daaa",
   "metadata": {},
   "outputs": [
    {
     "name": "stdout",
     "output_type": "stream",
     "text": [
      "0.14628788027262518 0.29092191698461334 0.29052591520776916\n"
     ]
    }
   ],
   "source": [
    "print(-xi, mu, sigma)"
   ]
  },
  {
   "cell_type": "code",
   "execution_count": 339,
   "id": "e92cf60d",
   "metadata": {},
   "outputs": [
    {
     "data": {
      "image/png": "[encoded data removed]",
      "text/plain": [
       "<Figure size 432x288 with 1 Axes>"
      ]
     },
     "metadata": {},
     "output_type": "display_data"
    }
   ],
   "source": [
    "sorted_M = np.sort(M)\n",
    "plt.plot(sorted_M, np.exp(-(1-xi * (sorted_M - mu) / sigma) ** (1/xi)), color=\"gold\",  label = \"Dystrybuanta teoretyczna\")\n",
    "plt.plot(sorted_M, ECDF(M)(sorted_M), color=\"teal\",  label = \"Dystrybuanta empiryczna\")\n",
    "plt.legend()\n",
    "plt.xlabel(\"x\")\n",
    "plt.ylabel(\"F(x)\")\n",
    "plt.tight_layout()\n",
    "plt.savefig(\"maxjpyds.png\")"
   ]
  },
  {
   "cell_type": "markdown",
   "id": "492e9fe6",
   "metadata": {},
   "source": [
    "\\'e"
   ]
  },
  {
   "cell_type": "code",
   "execution_count": 340,
   "id": "b568e7ef",
   "metadata": {},
   "outputs": [],
   "source": [
    "def find_x_axis(shape,loc,scale,mins):\n",
    "    lim = loc - scale / shape\n",
    "    if shape > 0:\n",
    "        x = np.linspace(lim, max(mins), num = 100)\n",
    "    elif shape == 0:\n",
    "        x = np.linspace(min(mins), max(mins))\n",
    "    else:\n",
    "        x = np.linspace(min(mins), loc)\n",
    "    return(x)\n",
    "def draw_gev(shape,loc,scale,mins):\n",
    "    x_axis = np.linspace(min(mins), max(mins))\n",
    "    y_axis = gev.pdf(x_axis, shape, loc, scale)\n",
    "    plt.plot( x_axis, y_axis, color=\"gold\")\n",
    "def gev_distribution(mins):\n",
    "    shape, loc, scale = gev.fit(mins)\n",
    "    draw_gev(shape,loc,scale, mins)"
   ]
  },
  {
   "cell_type": "code",
   "execution_count": 341,
   "id": "8220f330",
   "metadata": {},
   "outputs": [
    {
     "data": {
      "image/png": "[encoded data removed]",
      "text/plain": [
       "<Figure size 432x288 with 1 Axes>"
      ]
     },
     "metadata": {},
     "output_type": "display_data"
    }
   ],
   "source": [
    "gev_distribution(M)\n",
    "plt.hist(M, bins = 15, density=True, color=\"teal\")\n",
    "plt.xlabel(\"x\")\n",
    "plt.ylabel(\"Histogram maksimum USD/JPY\")\n",
    "plt.tight_layout()\n",
    "plt.savefig(\"maxjpyh.png\")"
   ]
  },
  {
   "cell_type": "code",
   "execution_count": 342,
   "id": "41a4fb2f",
   "metadata": {},
   "outputs": [
    {
     "data": {
      "image/png": "[encoded data removed]",
      "text/plain": [
       "<Figure size 432x288 with 1 Axes>"
      ]
     },
     "metadata": {},
     "output_type": "display_data"
    }
   ],
   "source": [
    "mins_mate_diff = find_minimum(-mate1, 5)\n",
    "plt.hist(mins_mate_diff, bins=30, color=\"teal\" )\n",
    "plt.xlabel(\"x\")\n",
    "plt.ylabel(\"Histogram\")\n",
    "plt.tight_layout()\n",
    "plt.savefig(\"maxaudw.png\")"
   ]
  },
  {
   "cell_type": "code",
   "execution_count": 343,
   "id": "d252f878",
   "metadata": {},
   "outputs": [],
   "source": [
    "M = mins_mate_diff"
   ]
  },
  {
   "cell_type": "code",
   "execution_count": 344,
   "id": "fa4a177f",
   "metadata": {},
   "outputs": [
    {
     "name": "stdout",
     "output_type": "stream",
     "text": [
      "0.06008354967976259\n",
      "0.29311619985406323\n"
     ]
    }
   ],
   "source": [
    "xi, mu, sigma = gev.fit(M)\n",
    "\n",
    "stat, pv = kstest(M, gev.cdf, args=(xi, mu, sigma))\n",
    "print(stat)\n",
    "print(pv)"
   ]
  },
  {
   "cell_type": "code",
   "execution_count": 345,
   "id": "727153ee",
   "metadata": {},
   "outputs": [
    {
     "name": "stdout",
     "output_type": "stream",
     "text": [
      "-0.04210483978354143 0.5008179875965839 0.4044827701797918\n"
     ]
    }
   ],
   "source": [
    "print(-xi, mu, sigma)"
   ]
  },
  {
   "cell_type": "code",
   "execution_count": 346,
   "id": "b21dc156",
   "metadata": {},
   "outputs": [
    {
     "data": {
      "image/png": "[encoded data removed]",
      "text/plain": [
       "<Figure size 432x288 with 1 Axes>"
      ]
     },
     "metadata": {},
     "output_type": "display_data"
    }
   ],
   "source": [
    "gev_distribution(M)\n",
    "plt.hist(M, bins = 20, density=True, color=\"teal\")\n",
    "plt.xlabel(\"x\")\n",
    "plt.ylabel(\"Histogram maksimum USD/AUD\")\n",
    "plt.tight_layout()\n",
    "plt.savefig(\"maxaudh.png\")"
   ]
  },
  {
   "cell_type": "code",
   "execution_count": 347,
   "id": "ebb9dc13",
   "metadata": {},
   "outputs": [
    {
     "data": {
      "text/plain": [
       "2.472293194480205"
      ]
     },
     "execution_count": 347,
     "metadata": {},
     "output_type": "execute_result"
    }
   ],
   "source": [
    "1/sigma"
   ]
  },
  {
   "cell_type": "code",
   "execution_count": 348,
   "id": "98b7d686",
   "metadata": {},
   "outputs": [
    {
     "name": "stdout",
     "output_type": "stream",
     "text": [
      "0.4044827701797918 0.5008179875965839 -0.04210483978354143\n"
     ]
    },
    {
     "data": {
      "image/png": "[encoded data removed]",
      "text/plain": [
       "<Figure size 432x288 with 1 Axes>"
      ]
     },
     "metadata": {},
     "output_type": "display_data"
    }
   ],
   "source": [
    "def dens(x_axis, sigma, mu, ksi):\n",
    "    y = [np.exp(-(1 - ksi * ((x-mu)/sigma)) ** (1 / ksi))*(1 - ksi * ((x-mu)/sigma)) ** (1 / ksi - 1) for x in x_axis]\n",
    "    return y\n",
    "print(sigma, mu, -xi)\n",
    "pddf = dens(sorted_M, sigma, mu, xi)\n",
    "plt.plot(sorted_M, np.exp(-(1-xi * (sorted_M - mu) / sigma) ** (1/xi))*(1-xi * (sorted_M - mu) / sigma) ** (1/xi - 1)/sigma, color=\"red\")\n",
    "plt.hist(M, density=True, bins=20)\n",
    "plt.show()"
   ]
  },
  {
   "cell_type": "markdown",
   "id": "41d8a5b1",
   "metadata": {},
   "source": [
    "$\\sigma$"
   ]
  },
  {
   "cell_type": "code",
   "execution_count": 349,
   "id": "6e28e736",
   "metadata": {},
   "outputs": [
    {
     "data": {
      "image/png": "[encoded data removed]",
      "text/plain": [
       "<Figure size 432x288 with 1 Axes>"
      ]
     },
     "metadata": {},
     "output_type": "display_data"
    }
   ],
   "source": [
    "sorted_M = np.sort(M)\n",
    "plt.plot(sorted_M, np.exp(-(1-xi * (sorted_M - mu) / sigma) ** (1/xi)), color=\"gold\", label = \"Dystrybuanta teoretyczna\")\n",
    "plt.plot(sorted_M, ECDF(M)(sorted_M), color=\"teal\",  label = \"Dystrybuanta empiryczna\")\n",
    "plt.xlabel(\"x\")\n",
    "plt.ylabel(\"F(x)\")\n",
    "plt.legend()\n",
    "plt.tight_layout()\n",
    "plt.savefig(\"maxaudd.png\")"
   ]
  },
  {
   "cell_type": "code",
   "execution_count": null,
   "id": "59bd50ee",
   "metadata": {},
   "outputs": [],
   "source": []
  },
  {
   "cell_type": "code",
   "execution_count": null,
   "id": "df543f52",
   "metadata": {},
   "outputs": [],
   "source": []
  }
 ],
 "metadata": {
  "kernelspec": {
   "display_name": "Python 3",
   "language": "python",
   "name": "python3"
  },
  "language_info": {
   "codemirror_mode": {
    "name": "ipython",
    "version": 3
   },
   "file_extension": ".py",
   "mimetype": "text/x-python",
   "name": "python",
   "nbconvert_exporter": "python",
   "pygments_lexer": "ipython3",
   "version": "3.9.5"
  }
 },
 "nbformat": 4,
 "nbformat_minor": 5
}
