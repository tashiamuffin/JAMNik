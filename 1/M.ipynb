{
 "cells": [
  {
   "cell_type": "code",
   "execution_count": 177,
   "id": "negative-bunch",
   "metadata": {},
   "outputs": [],
   "source": [
    "import pandas as pd\n",
    "import matplotlib.pyplot as plt\n",
    "import numpy as np\n",
    "import scipy\n",
    "#import dc_stat_think as dcst\n",
    "import seaborn as sns"
   ]
  },
  {
   "cell_type": "code",
   "execution_count": 128,
   "id": "automatic-village",
   "metadata": {},
   "outputs": [],
   "source": [
    "plt.rcParams[\"figure.figsize\"] = (10,8)\n",
    "plt.rcParams.update({'font.size': 20})\n",
    "#plt.rc('axes', titlesize=25)     # fontsize of the axes title\n",
    "#plt.rc('axes', labelsize=20)"
   ]
  },
  {
   "cell_type": "code",
   "execution_count": 5,
   "id": "eleven-impression",
   "metadata": {},
   "outputs": [],
   "source": [
    "jpy = pd.read_csv(\"JPY.csv\").Close\n",
    "aud = pd.read_csv(\"AUD.csv\").Close\n",
    "jpy.iloc[295] = np.mean([jpy.iloc[294], jpy.iloc[296]])\n",
    "aud.iloc[295] = np.mean([aud.iloc[294], aud.iloc[296]])"
   ]
  },
  {
   "cell_type": "code",
   "execution_count": 13,
   "id": "pregnant-clone",
   "metadata": {},
   "outputs": [],
   "source": [
    "jpy1 = np.diff(jpy)/jpy[:-1]*100\n",
    "aud1 = np.diff(aud)/aud[:-1]*100"
   ]
  },
  {
   "cell_type": "code",
   "execution_count": 14,
   "id": "refined-senior",
   "metadata": {},
   "outputs": [],
   "source": [
    "jpy11 = jpy1[:653]\n",
    "jpy12 = jpy1[653:]\n",
    "\n",
    "aud11 = aud1[:653]\n",
    "aud12 = aud1[653:]"
   ]
  },
  {
   "cell_type": "code",
   "execution_count": 184,
   "id": "armed-compromise",
   "metadata": {},
   "outputs": [
    {
     "data": {
      "text/plain": [
       "(0.19622720882999725, 0.3268188141663376)"
      ]
     },
     "execution_count": 184,
     "metadata": {},
     "output_type": "execute_result"
    }
   ],
   "source": [
    "np.var(jpy11), np.var(jpy12)"
   ]
  },
  {
   "cell_type": "code",
   "execution_count": 172,
   "id": "catholic-intermediate",
   "metadata": {},
   "outputs": [
    {
     "data": {
      "text/plain": [
       "(0.6238124379172575, 0.6903373711909526)"
      ]
     },
     "execution_count": 172,
     "metadata": {},
     "output_type": "execute_result"
    }
   ],
   "source": [
    "np.var(aud11)**0.5, np.var(aud12)**0.5"
   ]
  },
  {
   "cell_type": "code",
   "execution_count": 187,
   "id": "prepared-diagnosis",
   "metadata": {},
   "outputs": [],
   "source": [
    "def f_test(x, y):\n",
    "    x = np.array(x)\n",
    "    y = np.array(y)\n",
    "    f = np.var(x)/np.var(y) #calculate F test statistic \n",
    "    dfn = x.size-1 #define degrees of freedom numerator \n",
    "    dfd = y.size-1 #define degrees of freedom denominator \n",
    "    p = 1-scipy.stats.f.cdf(f, dfn, dfd) #find p-value of F test statistic \n",
    "    return f, p"
   ]
  },
  {
   "cell_type": "code",
   "execution_count": 195,
   "id": "needed-founder",
   "metadata": {},
   "outputs": [
    {
     "data": {
      "text/plain": [
       "LeveneResult(statistic=16.42603548533228, pvalue=5.3580468845258825e-05)"
      ]
     },
     "execution_count": 195,
     "metadata": {},
     "output_type": "execute_result"
    }
   ],
   "source": [
    "scipy.stats.levene(aud12, aud11)"
   ]
  },
  {
   "cell_type": "code",
   "execution_count": 199,
   "id": "blocked-pillow",
   "metadata": {},
   "outputs": [
    {
     "data": {
      "text/plain": [
       "BartlettResult(statistic=6.668862130388697, pvalue=0.009811180796261714)"
      ]
     },
     "execution_count": 199,
     "metadata": {},
     "output_type": "execute_result"
    }
   ],
   "source": [
    "scipy.stats.bartlett(aud12, aud11)"
   ]
  },
  {
   "cell_type": "code",
   "execution_count": 194,
   "id": "documented-knowing",
   "metadata": {},
   "outputs": [
    {
     "data": {
      "text/plain": [
       "LeveneResult(statistic=16.42603548533228, pvalue=5.3580468845258825e-05)"
      ]
     },
     "execution_count": 194,
     "metadata": {},
     "output_type": "execute_result"
    }
   ],
   "source": [
    "scipy.stats.levene(jpy12, jpy11)"
   ]
  },
  {
   "cell_type": "code",
   "execution_count": 200,
   "id": "amino-waters",
   "metadata": {},
   "outputs": [
    {
     "data": {
      "text/plain": [
       "BartlettResult(statistic=41.88116559368082, pvalue=9.699241982986652e-11)"
      ]
     },
     "execution_count": 200,
     "metadata": {},
     "output_type": "execute_result"
    }
   ],
   "source": [
    "scipy.stats.bartlett(jpy12, jpy11)"
   ]
  },
  {
   "cell_type": "code",
   "execution_count": null,
   "id": "revised-biology",
   "metadata": {},
   "outputs": [],
   "source": []
  },
  {
   "cell_type": "code",
   "execution_count": 67,
   "id": "plastic-alexandria",
   "metadata": {},
   "outputs": [],
   "source": [
    "def ulsko(r, alpha):\n",
    "    \n",
    "    result = []\n",
    "    \n",
    "    for i in range(int(len(r)/2),len(r)-1):\n",
    "        \n",
    "        past = r[i-652:i]\n",
    "        K = np.quantile(past, alpha)\n",
    "        \n",
    "        if r[i+1] > K:\n",
    "            result.append(0)\n",
    "        \n",
    "        else:\n",
    "            result.append(1)\n",
    "    \n",
    "    return np.mean(result), np.var(result) \n",
    "\n",
    "    #print(\"E(I)\")\n",
    "    #print(\"Theoretical: \", alpha)\n",
    "    #print(\"Hubert Urbański: \", np.mean(result))\n",
    "    #print(\"=====================================\")\n",
    "    #print(\"Var(I)\")\n",
    "    #print(\"Theoretical: \", alpha*(1-alpha))\n",
    "    #print(\"Roman Polański: \", np.var(result))"
   ]
  },
  {
   "cell_type": "code",
   "execution_count": 206,
   "id": "controversial-element",
   "metadata": {},
   "outputs": [],
   "source": [
    "def satan(data, AAA):\n",
    "    \n",
    "    \n",
    "    if AAA == \"mean\":\n",
    "        \n",
    "        q = np.arange(0,1.01,0.01)\n",
    "        x = []\n",
    "        \n",
    "        for i in q:\n",
    "            x.append(ulsko(data, i)[0])\n",
    "        \n",
    "        sns.set_theme()\n",
    "        plt.xlabel('Kwantyl', fontsize = 16)\n",
    "        plt.ylabel('E(I)', fontsize = 17)\n",
    "        plt.plot(q, q, color = \"gold\", linewidth = 2.5, zorder = 4, label = \"Wartości teoretyczne\")\n",
    "        #sns.kdeplot(hao1, linewidth=2, color = 'gold')\n",
    "        plt.scatter(x, q, color='teal', s = 15, zorder = 5, label = \"Wartości empiryczne\")\n",
    "        plt.legend()\n",
    "        plt.savefig(\"jpy_mean.png\", format=\"png\", bbox_inches=\"tight\")\n",
    "    \n",
    "    elif AAA == \"var\":\n",
    "        \n",
    "        q = np.arange(0,1.01,0.01)\n",
    "        x = []\n",
    "        \n",
    "        for i in q:\n",
    "            x.append(ulsko(data, i)[1])\n",
    "        \n",
    "        sns.set_theme()\n",
    "        plt.xlabel('Kwantyl', fontsize = 16)\n",
    "        plt.ylabel('Var(I)', fontsize = 17)\n",
    "        plt.plot(q, q*(1-q), color='gold', linewidth = 2.5, zorder = 4, label = \"Wartości teoretyczne\")\n",
    "        plt.scatter(q, x, color='teal', s = 15, zorder = 5, label = \"Wartości empiryczne\")\n",
    "        plt.legend()\n",
    "        plt.savefig(\"jpy_var.png\", format=\"png\", bbox_inches=\"tight\")"
   ]
  },
  {
   "cell_type": "code",
   "execution_count": 208,
   "id": "pursuant-reset",
   "metadata": {},
   "outputs": [
    {
     "data": {
      "image/png": "[encoded data removed]",
      "text/plain": [
       "<Figure size 720x576 with 1 Axes>"
      ]
     },
     "metadata": {},
     "output_type": "display_data"
    }
   ],
   "source": [
    "satan(jpy1, \"var\")"
   ]
  },
  {
   "cell_type": "code",
   "execution_count": 69,
   "id": "matched-regard",
   "metadata": {},
   "outputs": [
    {
     "data": {
      "text/plain": [
       "0.02457757296466974"
      ]
     },
     "execution_count": 69,
     "metadata": {},
     "output_type": "execute_result"
    }
   ],
   "source": [
    "ulsko(jpy1, 0.01)[0]"
   ]
  },
  {
   "cell_type": "code",
   "execution_count": null,
   "id": "suitable-conclusion",
   "metadata": {},
   "outputs": [],
   "source": []
  },
  {
   "cell_type": "code",
   "execution_count": null,
   "id": "later-breach",
   "metadata": {},
   "outputs": [],
   "source": []
  },
  {
   "cell_type": "code",
   "execution_count": null,
   "id": "mathematical-beauty",
   "metadata": {},
   "outputs": [],
   "source": []
  }
 ],
 "metadata": {
  "kernelspec": {
   "display_name": "Python 3",
   "language": "python",
   "name": "python3"
  },
  "language_info": {
   "codemirror_mode": {
    "name": "ipython",
    "version": 3
   },
   "file_extension": ".py",
   "mimetype": "text/x-python",
   "name": "python",
   "nbconvert_exporter": "python",
   "pygments_lexer": "ipython3",
   "version": "3.7.9"
  }
 },
 "nbformat": 4,
 "nbformat_minor": 5
}
